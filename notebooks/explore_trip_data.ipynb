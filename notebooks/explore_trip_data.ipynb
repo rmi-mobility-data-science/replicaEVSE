{
 "cells": [
  {
   "cell_type": "code",
   "execution_count": 1,
   "metadata": {},
   "outputs": [],
   "source": [
    "%load_ext autoreload\n",
    "%autoreload 2\n",
    "from replicaEVSE import datautils as du\n",
    "import os\n",
    "import dask.dataframe as dd\n",
    "import pandas as pd\n",
    "\n",
    "datadir = '../../data/'"
   ]
  },
  {
   "attachments": {},
   "cell_type": "markdown",
   "metadata": {},
   "source": [
    "# load in the trips data"
   ]
  },
  {
   "cell_type": "code",
   "execution_count": 4,
   "metadata": {},
   "outputs": [
    {
     "ename": "",
     "evalue": "",
     "output_type": "error",
     "traceback": [
      "\u001b[1;31mCanceled future for execute_request message before replies were done"
     ]
    },
    {
     "ename": "",
     "evalue": "",
     "output_type": "error",
     "traceback": [
      "\u001b[1;31mThe Kernel crashed while executing code in the the current cell or a previous cell. Please review the code in the cell(s) to identify a possible cause of the failure. Click <a href='https://aka.ms/vscodeJupyterKernelCrash'>here</a> for more info. View Jupyter <a href='command:jupyter.viewOutput'>log</a> for further details."
     ]
    }
   ],
   "source": [
    "\n",
    "# get list of blockgroups\n",
    "gdf = pd.read_pickle(datadir+'/blockgroup_boundaries.pkl')\n",
    "bgrp_list = list(gdf.GEOID.values)\n",
    "\n",
    "trip_sat_ddf = dd.read_parquet(datadir+'/northwest_2021_Q4_saturday_trip.parquet')\n",
    "trip_thu_ddf = dd.read_parquet(datadir+'/northwest_2021_Q4_thursday_trip.parquet')\n",
    "\n",
    "# dtype_dict = {\"person_id\": str, \"home_cty\": \"category\", \"home_st\": \"category\"}\n",
    "dtype_dict = {\"person_id\": str, \"home_cty\": str, \"home_st\": str}\n",
    "counties = dd.read_parquet(datadir+'/population_counties_dataset.parquet', engine='pyarrow')\n",
    "\n",
    "trip_sat_ddf['weekday'] = 'saturday'\n",
    "trip_thu_ddf['weekday'] = 'thursday'\n",
    "\n",
    "# stack the two dataframes\n",
    "trips = dd.concat([trip_sat_ddf, trip_thu_ddf], axis=0, keys=[\"saturday\", \"thursday\"])\n",
    "\n",
    "\n",
    "# only trips that end in WA\n",
    "trips_ddf = trips.loc[trips['destination_bgrp'].isin(bgrp_list)]\n",
    "\n",
    "# sort data\n",
    "trips_ddf = trips_ddf.sort_values(by=['person_id', 'start_time', 'weekday']).reset_index(drop=True)"
   ]
  },
  {
   "cell_type": "code",
   "execution_count": null,
   "metadata": {},
   "outputs": [],
   "source": []
  }
 ],
 "metadata": {
  "kernelspec": {
   "display_name": "py311",
   "language": "python",
   "name": "python3"
  },
  "language_info": {
   "codemirror_mode": {
    "name": "ipython",
    "version": 3
   },
   "file_extension": ".py",
   "mimetype": "text/x-python",
   "name": "python",
   "nbconvert_exporter": "python",
   "pygments_lexer": "ipython3",
   "version": "3.11.1"
  },
  "orig_nbformat": 4
 },
 "nbformat": 4,
 "nbformat_minor": 2
}
