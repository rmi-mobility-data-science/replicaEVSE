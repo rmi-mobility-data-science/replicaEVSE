{
 "cells": [
  {
   "cell_type": "markdown",
   "metadata": {},
   "source": [
    "# Run johns simulation using my datasets on a subsample of the data"
   ]
  },
  {
   "cell_type": "code",
   "execution_count": 8,
   "metadata": {
    "tags": []
   },
   "outputs": [
    {
     "name": "stderr",
     "output_type": "stream",
     "text": [
      "/home/matthew.wilde@RMI.local/mambaforge/envs/py311/lib/python3.11/site-packages/distributed/node.py:182: UserWarning: Port 8787 is already in use.\n",
      "Perhaps you already have a cluster running?\n",
      "Hosting the HTTP server on port 40059 instead\n",
      "  warnings.warn(\n"
     ]
    }
   ],
   "source": [
    "import pandas as pd\n",
    "import dask.dataframe as dd\n",
    "import dask.array as da\n",
    "import numpy as np\n",
    "import replicaEVSE.load_curve as sim\n",
    "import os\n",
    "from dask.diagnostics import ProgressBar\n",
    "import joblib\n",
    "\n",
    "%reload_ext autoreload\n",
    "%autoreload 2\n",
    "\n",
    "\n",
    "\n",
    "pd.set_option('display.max_columns', None)\n",
    "\n",
    "datadir = '../../data'\n",
    "\n",
    "from dask.distributed import Client, LocalCluster\n",
    "cluster = LocalCluster()  # Launches a scheduler and workers locally\n",
    "client = Client(cluster)  # Connect to distributed cluster and override default\n",
    "\n",
    "pbar = ProgressBar()\n",
    "pbar.register()\n",
    "\n",
    "#Created in the EIA_data_download.ipynb notebook\n",
    "existing_load=pd.read_csv('../../data/EIA_demand_summary.csv') \n",
    "\n",
    "merged_ddf = dd.read_parquet(os.path.join(datadir, 'wa_pop_and_trips.parquet'))\n",
    "\n",
    "df = merged_ddf.head(10000)\n",
    "ddf = dd.from_pandas(df, npartitions=4)\n",
    "\n",
    "\n",
    "# right now, only look at private auto trips\n",
    "ddf = ddf.loc[ddf['mode'] == 'PRIVATE_AUTO']\n",
    "\n",
    "\n",
    "\n",
    "# sort on person_id and start_time\n",
    "ddf = ddf.sort_values(by=['person_id', 'start_time', 'weekday']).reset_index(drop=True)\n",
    "\n",
    "ddf = ddf.reset_index(drop=True)\n",
    "df = ddf.compute()\n"
   ]
  },
  {
   "cell_type": "code",
   "execution_count": 58,
   "metadata": {},
   "outputs": [
    {
     "data": {
      "text/plain": [
       "51727268"
      ]
     },
     "execution_count": 58,
     "metadata": {},
     "output_type": "execute_result"
    }
   ],
   "source": [
    "# this data set only includes trips with people who are also in the population data set\n",
    "# this means no COMMERCIAL trips\n",
    "len(merged_ddf)"
   ]
  },
  {
   "cell_type": "code",
   "execution_count": 9,
   "metadata": {
    "tags": []
   },
   "outputs": [
    {
     "name": "stdout",
     "output_type": "stream",
     "text": [
      "<Client: 'tcp://127.0.0.1:38965' processes=4 threads=8, memory=31.35 GiB>\n"
     ]
    }
   ],
   "source": [
    "print(client)"
   ]
  },
  {
   "attachments": {},
   "cell_type": "markdown",
   "metadata": {},
   "source": [
    "### run the simulation on small dataset to test"
   ]
  },
  {
   "cell_type": "code",
   "execution_count": 115,
   "metadata": {},
   "outputs": [],
   "source": [
    "# this takes ~1min for 10,000 trips\n",
    "out = sim.simulate_person_load(df, existing_load, 'base', managed=False)"
   ]
  },
  {
   "cell_type": "code",
   "execution_count": 208,
   "metadata": {},
   "outputs": [],
   "source": [
    "# try to use dask\n",
    "# this doesn't work\n",
    "# out = ddf.map_partitions(sim.simulate_person_load, existing_load, 'base', managed=False, align_dataframes=False)\n",
    "# out.compute()"
   ]
  },
  {
   "cell_type": "code",
   "execution_count": 10,
   "metadata": {},
   "outputs": [
    {
     "ename": "NameError",
     "evalue": "name 'number_of_chunks' is not defined",
     "output_type": "error",
     "traceback": [
      "\u001b[0;31m---------------------------------------------------------------------------\u001b[0m",
      "\u001b[0;31mNameError\u001b[0m                                 Traceback (most recent call last)",
      "Cell \u001b[0;32mIn[10], line 1\u001b[0m\n\u001b[0;32m----> 1\u001b[0m df_list \u001b[39m=\u001b[39m np\u001b[39m.\u001b[39marray_split(df, number_of_chunks)\n",
      "\u001b[0;31mNameError\u001b[0m: name 'number_of_chunks' is not defined"
     ]
    }
   ],
   "source": [
    "number_of_chunks = 10000 # 10000 rows in each chunck\n",
    "df_list = np.array_split(df, number_of_chunks)"
   ]
  },
  {
   "cell_type": "code",
   "execution_count": 209,
   "metadata": {},
   "outputs": [
    {
     "name": "stderr",
     "output_type": "stream",
     "text": [
      "[Parallel(n_jobs=-1)]: Using backend LokyBackend with 8 concurrent workers.\n"
     ]
    }
   ],
   "source": [
    "# run the simulation in parallel\n",
    "# df must be a pandas dataframe\n",
    "charge_sims = joblib.Parallel(verbose=10, n_jobs=-1)(\n",
    "    joblib.delayed(sim.simulate_person_load)(\n",
    "    df=df,\n",
    "    existing_load=existing_load,\n",
    "    simulation_id='base',\n",
    "    managed=False\n",
    ") for df in df_list)"
   ]
  },
  {
   "cell_type": "code",
   "execution_count": 191,
   "metadata": {},
   "outputs": [],
   "source": [
    "# restack the dataframes\n",
    "charges_list = [x['charges'] for x in charge_sims]\n",
    "charges_df = pd.concat(charges_list)\n",
    "\n",
    "loads_list = [x['loads'] for x in charge_sims]\n",
    "loads_df = pd.concat(loads_list)"
   ]
  },
  {
   "cell_type": "code",
   "execution_count": 194,
   "metadata": {},
   "outputs": [
    {
     "name": "stderr",
     "output_type": "stream",
     "text": [
      "/Users/matthew.wilde/mambaforge/envs/py311/lib/python3.11/site-packages/dask/dataframe/core.py:7996: UserWarning: Insufficient elements for `head`. 10000000 elements requested, only 92208 elements available. Try passing larger `npartitions` to `head`.\n",
      "  warnings.warn(\n"
     ]
    },
    {
     "data": {
      "text/plain": [
       "PRIVATE_AUTO         48293\n",
       "CARPOOL              29286\n",
       "WALKING               8937\n",
       "COMMERCIAL            2581\n",
       "OTHER_TRAVEL_MODE     1146\n",
       "ON_DEMAND_AUTO         791\n",
       "PUBLIC_TRANSIT         707\n",
       "BIKING                 467\n",
       "Name: mode, dtype: int64"
      ]
     },
     "execution_count": 194,
     "metadata": {},
     "output_type": "execute_result"
    },
    {
     "name": "stderr",
     "output_type": "stream",
     "text": [
      "2023-04-29 13:05:06,592 - tornado.application - ERROR - Exception in callback <bound method SystemMonitor.update of <SystemMonitor: cpu: 1 memory: 28 MB fds: 44>>\n",
      "Traceback (most recent call last):\n",
      "  File \"/Users/matthew.wilde/mambaforge/envs/py311/lib/python3.11/site-packages/tornado/ioloop.py\", line 921, in _run\n",
      "    val = self.callback()\n",
      "          ^^^^^^^^^^^^^^^\n",
      "  File \"/Users/matthew.wilde/mambaforge/envs/py311/lib/python3.11/site-packages/distributed/system_monitor.py\", line 164, in update\n",
      "    net_ioc = psutil.net_io_counters()\n",
      "              ^^^^^^^^^^^^^^^^^^^^^^^^\n",
      "  File \"/Users/matthew.wilde/mambaforge/envs/py311/lib/python3.11/site-packages/psutil/__init__.py\", line 2114, in net_io_counters\n",
      "    rawdict = _psplatform.net_io_counters()\n",
      "              ^^^^^^^^^^^^^^^^^^^^^^^^^^^^^\n",
      "OSError: [Errno 12] Cannot allocate memory\n",
      "2023-04-29 13:05:06,592 - tornado.application - ERROR - Exception in callback <bound method SystemMonitor.update of <SystemMonitor: cpu: 1 memory: 27 MB fds: 44>>\n",
      "Traceback (most recent call last):\n",
      "  File \"/Users/matthew.wilde/mambaforge/envs/py311/lib/python3.11/site-packages/tornado/ioloop.py\", line 921, in _run\n",
      "    val = self.callback()\n",
      "          ^^^^^^^^^^^^^^^\n",
      "  File \"/Users/matthew.wilde/mambaforge/envs/py311/lib/python3.11/site-packages/distributed/system_monitor.py\", line 164, in update\n",
      "    net_ioc = psutil.net_io_counters()\n",
      "              ^^^^^^^^^^^^^^^^^^^^^^^^\n",
      "  File \"/Users/matthew.wilde/mambaforge/envs/py311/lib/python3.11/site-packages/psutil/__init__.py\", line 2114, in net_io_counters\n",
      "    rawdict = _psplatform.net_io_counters()\n",
      "              ^^^^^^^^^^^^^^^^^^^^^^^^^^^^^\n",
      "OSError: [Errno 12] Cannot allocate memory\n"
     ]
    }
   ],
   "source": [
    "frac = 0.001 # ~2e4\n",
    "thu = dd.read_parquet(os.path.join(datadir, 'northwest_2021_Q4_thursday_trip.parquet'))\n",
    "sat = dd.read_parquet(os.path.join(datadir, 'northwest_2021_Q4_saturday_trip.parquet'))\n",
    "pop = dd.read_parquet(os.path.join(datadir, 'northwest_2021_Q4_population.parquet'))\n",
    "ddf = dd.read_parquet(os.path.join(datadir, 'wa_pop_and_trips.parquet'))\n",
    "df = ddf.head(10000000)\n",
    "trips_ddf = dd.concat([thu, sat])\n",
    "# ddf = dd.from_pandas(df, chunksize=1000)\n",
    "df['mode'].value_counts()"
   ]
  },
  {
   "cell_type": "code",
   "execution_count": 193,
   "metadata": {},
   "outputs": [
    {
     "data": {
      "text/plain": [
       "58222322"
      ]
     },
     "execution_count": 193,
     "metadata": {},
     "output_type": "execute_result"
    }
   ],
   "source": [
    "len(trips_ddf.loc[trips_ddf['mode'] == 'PRIVATE_AUTO'])"
   ]
  },
  {
   "cell_type": "code",
   "execution_count": 195,
   "metadata": {},
   "outputs": [
    {
     "data": {
      "text/plain": [
       "(107897185, 51727268, 14889896)"
      ]
     },
     "execution_count": 195,
     "metadata": {},
     "output_type": "execute_result"
    }
   ],
   "source": [
    "len(sat) + len(thu), len(ddf), len(pop)"
   ]
  },
  {
   "cell_type": "code",
   "execution_count": 204,
   "metadata": {},
   "outputs": [],
   "source": [
    "pop_len = 58.222322\n",
    "trips_len = 159.624453 # million\n",
    "join_len = 51.727268 \n",
    "other_len = 49.674863\n",
    "pop_len = 14.889896"
   ]
  },
  {
   "cell_type": "code",
   "execution_count": 207,
   "metadata": {},
   "outputs": [],
   "source": [
    "unique_people_in_pop_len = len(pop['person_id'].unique())\n"
   ]
  },
  {
   "cell_type": "code",
   "execution_count": 200,
   "metadata": {},
   "outputs": [],
   "source": [
    "trucks = trips_ddf.loc[trips_ddf['mode'] == 'COMMERCIAL']\n",
    "other = trips_ddf.loc[trips_ddf['mode'] != 'PRIVATE_AUTO']"
   ]
  },
  {
   "cell_type": "code",
   "execution_count": 201,
   "metadata": {},
   "outputs": [
    {
     "data": {
      "text/plain": [
       "49674863"
      ]
     },
     "execution_count": 201,
     "metadata": {},
     "output_type": "execute_result"
    }
   ],
   "source": [
    "len(other)"
   ]
  },
  {
   "cell_type": "code",
   "execution_count": 43,
   "metadata": {},
   "outputs": [
    {
     "data": {
      "text/plain": [
       "742346565412155034      1\n",
       "15599841864145516296    1\n",
       "15957102494379320837    1\n",
       "527913541642522316      1\n",
       "11863695826646875355    1\n",
       "                       ..\n",
       "10609809864126162799    1\n",
       "13047083034364930310    1\n",
       "4870148386369669563     1\n",
       "3820212310910378094     1\n",
       "8815481925946782109     1\n",
       "Name: person_id, Length: 12957, dtype: int64"
      ]
     },
     "execution_count": 43,
     "metadata": {},
     "output_type": "execute_result"
    }
   ],
   "source": [
    "trucks['person_id'].value_counts()"
   ]
  },
  {
   "cell_type": "code",
   "execution_count": 47,
   "metadata": {},
   "outputs": [
    {
     "data": {
      "text/plain": [
       "<Axes: >"
      ]
     },
     "execution_count": 47,
     "metadata": {},
     "output_type": "execute_result"
    },
    {
     "data": {
      "image/png": "[encoded data removed]",
      "text/plain": [
       "<Figure size 640x480 with 1 Axes>"
      ]
     },
     "metadata": {},
     "output_type": "display_data"
    }
   ],
   "source": [
    "trucks.loc[trucks['vehicle_type'] == 'MEDIUM_COMMERCIAL']['distance_miles'].hist(bins=100,  alpha=0.5)\n",
    "trucks.loc[trucks['vehicle_type'] == 'HEAVY_COMMERCIAL']['distance_miles'].hist(bins=100, log=True, alpha=0.5)"
   ]
  },
  {
   "cell_type": "code",
   "execution_count": 38,
   "metadata": {},
   "outputs": [],
   "source": [
    "trips = dd.read_parquet(os.path.join(datadir, 'northwest_2021_Q4_thursday_trip.parquet'))"
   ]
  },
  {
   "cell_type": "code",
   "execution_count": null,
   "metadata": {},
   "outputs": [],
   "source": []
  }
 ],
 "metadata": {
  "kernelspec": {
   "display_name": "Python 3 (ipykernel)",
   "language": "python",
   "name": "python3"
  },
  "language_info": {
   "codemirror_mode": {
    "name": "ipython",
    "version": 3
   },
   "file_extension": ".py",
   "mimetype": "text/x-python",
   "name": "python",
   "nbconvert_exporter": "python",
   "pygments_lexer": "ipython3",
   "version": "3.11.3"
  }
 },
 "nbformat": 4,
 "nbformat_minor": 4
}
