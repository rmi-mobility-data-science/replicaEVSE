{
 "cells": [
  {
   "attachments": {},
   "cell_type": "markdown",
   "metadata": {},
   "source": [
    "# This is a sandbox for setting up a run of the simulation on LDV. \n",
    "\n",
    "1. load data: this is where you can decide which mode ('PRIVATE_AUTO', 'COMMERCIAL', etc) to run on. \n",
    "2. sample each county to match the number of vehicles from the stock rollover model. Alternatively, use a set fraction from each county to sample from in lieu of that information. \n",
    "3. run the simulation in parallel.\n",
    "4. restack the outputs into charges and loads dataframes. \n"
   ]
  },
  {
   "cell_type": "code",
   "execution_count": 4,
   "metadata": {
    "tags": []
   },
   "outputs": [],
   "source": [
    "import pandas as pd\n",
    "import numpy as np\n",
    "import replicaEVSE.load_curve as sim\n",
    "import replicaEVSE.datautils as simdu\n",
    "import os\n",
    "import joblib\n",
    "import dask.dataframe as dd\n",
    "\n",
    "%reload_ext autoreload\n",
    "%autoreload 2\n",
    "\n",
    "pd.set_option('display.max_columns', None)\n",
    "\n",
    "datadir = '../../data/'\n",
    "mode = 'PRIVATE_AUTO'\n",
    "simulation_id = 'base_dev_with_ldv_logic_2021_20230528'\n",
    "test = False\n",
    "\n",
    "#Created in the EIA_data_download.ipynb notebook\n",
    "existing_load=pd.read_csv(datadir+'EIA_demand_summary.csv') \n",
    "if test:\n",
    "    # df = pd.read_parquet(os.path.join(datadir, 'wa_pop_and_trips_subsample.parquet'))\n",
    "    df = pd.read_parquet(os.path.join(datadir, 'wa_pop_and_trips_sorted_county.parquet'))\n",
    "    df = df.head(10000)\n",
    "    df = df.loc[df['mode'] == mode]\n",
    "    simulation_id = 'dev'\n",
    "\n",
    "else: \n",
    "    # read in the joined trips and population data sets\n",
    "    merged_df = pd.read_parquet(os.path.join(datadir, 'wa_pop_and_trips_sorted_county.parquet'))\n",
    "\n",
    "    # right now, only look at private auto trips\n",
    "    df = merged_df.loc[merged_df['mode'] == mode]"
   ]
  },
  {
   "attachments": {},
   "cell_type": "markdown",
   "metadata": {},
   "source": [
    "###  sample by county: for now use a percent until we have the stock rollover model\n",
    "\n",
    "`ev_df` should be given to us to run. "
   ]
  },
  {
   "cell_type": "code",
   "execution_count": 6,
   "metadata": {},
   "outputs": [],
   "source": [
    "county_list = df.destination_county.unique()\n",
    "\n",
    "# make up a random number of people to select for each county \n",
    "# since I dont have the real numbers yet. \n",
    "people_to_select = [np.random.randint(1, 1000) for _ in range(len(county_list))]\n",
    "# make a data frame to mimic the output of the stock rollover model\n",
    "ev_df = pd.DataFrame({ 'county': county_list, 'nEV': people_to_select, 'ef': 0.3})"
   ]
  },
  {
   "attachments": {},
   "cell_type": "markdown",
   "metadata": {},
   "source": [
    "Or just run on a fraction of each county as a guess"
   ]
  },
  {
   "cell_type": "code",
   "execution_count": 8,
   "metadata": {},
   "outputs": [],
   "source": [
    "df_county_subset = simdu.sample_people_by_county(df, ev_df, fraction=0.05)"
   ]
  },
  {
   "attachments": {},
   "cell_type": "markdown",
   "metadata": {},
   "source": [
    "embarrassingly parallel = split into chunks and run on each chunk in parallel"
   ]
  },
  {
   "cell_type": "code",
   "execution_count": 9,
   "metadata": {
    "tags": []
   },
   "outputs": [],
   "source": [
    "if not test:\n",
    "    number_of_chunks = 10000\n",
    "    df_list = np.array_split(df_county_subset, number_of_chunks)"
   ]
  },
  {
   "cell_type": "code",
   "execution_count": 10,
   "metadata": {
    "tags": []
   },
   "outputs": [
    {
     "name": "stderr",
     "output_type": "stream",
     "text": [
      "[Parallel(n_jobs=-1)]: Using backend LokyBackend with 64 concurrent workers.\n",
      "[Parallel(n_jobs=-1)]: Done  17 tasks      | elapsed:   13.5s\n",
      "[Parallel(n_jobs=-1)]: Done  34 tasks      | elapsed:   13.6s\n",
      "[Parallel(n_jobs=-1)]: Done  53 tasks      | elapsed:   13.7s\n",
      "[Parallel(n_jobs=-1)]: Done  72 tasks      | elapsed:   14.2s\n",
      "[Parallel(n_jobs=-1)]: Done  93 tasks      | elapsed:   14.3s\n",
      "[Parallel(n_jobs=-1)]: Done 114 tasks      | elapsed:   14.5s\n",
      "[Parallel(n_jobs=-1)]: Done 137 tasks      | elapsed:   14.9s\n",
      "[Parallel(n_jobs=-1)]: Done 160 tasks      | elapsed:   15.3s\n",
      "[Parallel(n_jobs=-1)]: Done 185 tasks      | elapsed:   15.5s\n",
      "[Parallel(n_jobs=-1)]: Done 210 tasks      | elapsed:   16.0s\n",
      "[Parallel(n_jobs=-1)]: Done 237 tasks      | elapsed:   16.3s\n",
      "[Parallel(n_jobs=-1)]: Done 264 tasks      | elapsed:   16.7s\n",
      "[Parallel(n_jobs=-1)]: Done 293 tasks      | elapsed:   17.1s\n",
      "[Parallel(n_jobs=-1)]: Done 322 tasks      | elapsed:   17.6s\n",
      "[Parallel(n_jobs=-1)]: Done 353 tasks      | elapsed:   18.0s\n",
      "[Parallel(n_jobs=-1)]: Done 384 tasks      | elapsed:   18.6s\n",
      "[Parallel(n_jobs=-1)]: Done 417 tasks      | elapsed:   18.9s\n",
      "[Parallel(n_jobs=-1)]: Done 450 tasks      | elapsed:   19.6s\n",
      "[Parallel(n_jobs=-1)]: Done 485 tasks      | elapsed:   20.0s\n",
      "[Parallel(n_jobs=-1)]: Done 520 tasks      | elapsed:   20.6s\n",
      "[Parallel(n_jobs=-1)]: Done 557 tasks      | elapsed:   21.2s\n",
      "[Parallel(n_jobs=-1)]: Done 594 tasks      | elapsed:   21.6s\n",
      "[Parallel(n_jobs=-1)]: Done 633 tasks      | elapsed:   22.3s\n",
      "[Parallel(n_jobs=-1)]: Done 672 tasks      | elapsed:   22.7s\n",
      "[Parallel(n_jobs=-1)]: Done 713 tasks      | elapsed:   23.5s\n",
      "[Parallel(n_jobs=-1)]: Done 754 tasks      | elapsed:   24.0s\n",
      "[Parallel(n_jobs=-1)]: Done 797 tasks      | elapsed:   24.5s\n",
      "[Parallel(n_jobs=-1)]: Done 840 tasks      | elapsed:   25.1s\n",
      "[Parallel(n_jobs=-1)]: Done 885 tasks      | elapsed:   25.7s\n",
      "[Parallel(n_jobs=-1)]: Done 930 tasks      | elapsed:   26.2s\n",
      "[Parallel(n_jobs=-1)]: Done 977 tasks      | elapsed:   26.8s\n",
      "[Parallel(n_jobs=-1)]: Done 1024 tasks      | elapsed:   27.4s\n",
      "[Parallel(n_jobs=-1)]: Done 1073 tasks      | elapsed:   28.1s\n",
      "[Parallel(n_jobs=-1)]: Done 1122 tasks      | elapsed:   28.7s\n",
      "[Parallel(n_jobs=-1)]: Done 1173 tasks      | elapsed:   29.4s\n",
      "[Parallel(n_jobs=-1)]: Done 1224 tasks      | elapsed:   30.0s\n",
      "[Parallel(n_jobs=-1)]: Done 1277 tasks      | elapsed:   30.7s\n",
      "[Parallel(n_jobs=-1)]: Done 1330 tasks      | elapsed:   31.4s\n",
      "[Parallel(n_jobs=-1)]: Done 1385 tasks      | elapsed:   32.1s\n",
      "[Parallel(n_jobs=-1)]: Done 1440 tasks      | elapsed:   32.8s\n",
      "[Parallel(n_jobs=-1)]: Done 1497 tasks      | elapsed:   33.5s\n",
      "[Parallel(n_jobs=-1)]: Done 1554 tasks      | elapsed:   34.3s\n",
      "[Parallel(n_jobs=-1)]: Done 1613 tasks      | elapsed:   35.0s\n",
      "[Parallel(n_jobs=-1)]: Done 1672 tasks      | elapsed:   35.8s\n",
      "[Parallel(n_jobs=-1)]: Done 1733 tasks      | elapsed:   36.6s\n",
      "[Parallel(n_jobs=-1)]: Done 1794 tasks      | elapsed:   37.4s\n",
      "[Parallel(n_jobs=-1)]: Done 1857 tasks      | elapsed:   38.2s\n",
      "[Parallel(n_jobs=-1)]: Done 1920 tasks      | elapsed:   39.1s\n",
      "[Parallel(n_jobs=-1)]: Done 1985 tasks      | elapsed:   39.8s\n",
      "[Parallel(n_jobs=-1)]: Done 2050 tasks      | elapsed:   40.7s\n",
      "[Parallel(n_jobs=-1)]: Done 2117 tasks      | elapsed:   41.5s\n",
      "[Parallel(n_jobs=-1)]: Done 2184 tasks      | elapsed:   42.5s\n",
      "[Parallel(n_jobs=-1)]: Done 2253 tasks      | elapsed:   43.4s\n",
      "[Parallel(n_jobs=-1)]: Done 2322 tasks      | elapsed:   44.3s\n",
      "[Parallel(n_jobs=-1)]: Done 2393 tasks      | elapsed:   45.2s\n",
      "[Parallel(n_jobs=-1)]: Done 2464 tasks      | elapsed:   46.1s\n",
      "[Parallel(n_jobs=-1)]: Done 2537 tasks      | elapsed:   47.1s\n",
      "[Parallel(n_jobs=-1)]: Done 2610 tasks      | elapsed:   48.1s\n",
      "[Parallel(n_jobs=-1)]: Done 2685 tasks      | elapsed:   49.1s\n",
      "[Parallel(n_jobs=-1)]: Done 2760 tasks      | elapsed:   50.2s\n",
      "[Parallel(n_jobs=-1)]: Done 2837 tasks      | elapsed:   51.3s\n",
      "[Parallel(n_jobs=-1)]: Done 2914 tasks      | elapsed:   52.4s\n",
      "[Parallel(n_jobs=-1)]: Done 2993 tasks      | elapsed:   53.5s\n",
      "[Parallel(n_jobs=-1)]: Done 3072 tasks      | elapsed:   54.6s\n",
      "[Parallel(n_jobs=-1)]: Done 3153 tasks      | elapsed:   55.7s\n",
      "[Parallel(n_jobs=-1)]: Done 3234 tasks      | elapsed:   56.8s\n",
      "[Parallel(n_jobs=-1)]: Done 3317 tasks      | elapsed:   57.9s\n",
      "[Parallel(n_jobs=-1)]: Done 3400 tasks      | elapsed:   59.0s\n",
      "[Parallel(n_jobs=-1)]: Done 3485 tasks      | elapsed:  1.0min\n",
      "[Parallel(n_jobs=-1)]: Done 3570 tasks      | elapsed:  1.0min\n",
      "[Parallel(n_jobs=-1)]: Done 3657 tasks      | elapsed:  1.0min\n",
      "[Parallel(n_jobs=-1)]: Done 3744 tasks      | elapsed:  1.1min\n",
      "[Parallel(n_jobs=-1)]: Done 3833 tasks      | elapsed:  1.1min\n",
      "[Parallel(n_jobs=-1)]: Done 3922 tasks      | elapsed:  1.1min\n",
      "[Parallel(n_jobs=-1)]: Done 4013 tasks      | elapsed:  1.1min\n",
      "[Parallel(n_jobs=-1)]: Done 4104 tasks      | elapsed:  1.1min\n",
      "[Parallel(n_jobs=-1)]: Done 4197 tasks      | elapsed:  1.2min\n",
      "[Parallel(n_jobs=-1)]: Done 4290 tasks      | elapsed:  1.2min\n",
      "[Parallel(n_jobs=-1)]: Done 4385 tasks      | elapsed:  1.2min\n",
      "[Parallel(n_jobs=-1)]: Done 4480 tasks      | elapsed:  1.2min\n",
      "[Parallel(n_jobs=-1)]: Done 4577 tasks      | elapsed:  1.3min\n",
      "[Parallel(n_jobs=-1)]: Done 4674 tasks      | elapsed:  1.3min\n",
      "[Parallel(n_jobs=-1)]: Done 4773 tasks      | elapsed:  1.3min\n",
      "[Parallel(n_jobs=-1)]: Done 4872 tasks      | elapsed:  1.3min\n",
      "[Parallel(n_jobs=-1)]: Done 4973 tasks      | elapsed:  1.3min\n",
      "[Parallel(n_jobs=-1)]: Done 5074 tasks      | elapsed:  1.4min\n",
      "[Parallel(n_jobs=-1)]: Done 5177 tasks      | elapsed:  1.4min\n",
      "[Parallel(n_jobs=-1)]: Done 5280 tasks      | elapsed:  1.4min\n",
      "[Parallel(n_jobs=-1)]: Done 5385 tasks      | elapsed:  1.4min\n",
      "[Parallel(n_jobs=-1)]: Done 5490 tasks      | elapsed:  1.5min\n",
      "[Parallel(n_jobs=-1)]: Done 5597 tasks      | elapsed:  1.5min\n",
      "[Parallel(n_jobs=-1)]: Done 5704 tasks      | elapsed:  1.5min\n",
      "[Parallel(n_jobs=-1)]: Done 5813 tasks      | elapsed:  1.5min\n",
      "[Parallel(n_jobs=-1)]: Done 5922 tasks      | elapsed:  1.6min\n",
      "[Parallel(n_jobs=-1)]: Done 6033 tasks      | elapsed:  1.6min\n",
      "[Parallel(n_jobs=-1)]: Done 6144 tasks      | elapsed:  1.6min\n",
      "[Parallel(n_jobs=-1)]: Done 6257 tasks      | elapsed:  1.6min\n",
      "[Parallel(n_jobs=-1)]: Done 6370 tasks      | elapsed:  1.6min\n",
      "[Parallel(n_jobs=-1)]: Done 6485 tasks      | elapsed:  1.7min\n",
      "[Parallel(n_jobs=-1)]: Done 6600 tasks      | elapsed:  1.7min\n",
      "[Parallel(n_jobs=-1)]: Done 6717 tasks      | elapsed:  1.7min\n",
      "[Parallel(n_jobs=-1)]: Done 6834 tasks      | elapsed:  1.7min\n",
      "[Parallel(n_jobs=-1)]: Done 6953 tasks      | elapsed:  1.8min\n",
      "[Parallel(n_jobs=-1)]: Done 7072 tasks      | elapsed:  1.8min\n",
      "[Parallel(n_jobs=-1)]: Done 7193 tasks      | elapsed:  1.8min\n",
      "[Parallel(n_jobs=-1)]: Done 7314 tasks      | elapsed:  1.8min\n",
      "[Parallel(n_jobs=-1)]: Done 7437 tasks      | elapsed:  1.9min\n",
      "[Parallel(n_jobs=-1)]: Done 7560 tasks      | elapsed:  1.9min\n",
      "[Parallel(n_jobs=-1)]: Done 7685 tasks      | elapsed:  1.9min\n",
      "[Parallel(n_jobs=-1)]: Done 7810 tasks      | elapsed:  2.0min\n",
      "[Parallel(n_jobs=-1)]: Done 7937 tasks      | elapsed:  2.0min\n",
      "[Parallel(n_jobs=-1)]: Done 8064 tasks      | elapsed:  2.0min\n",
      "[Parallel(n_jobs=-1)]: Done 8193 tasks      | elapsed:  2.0min\n",
      "[Parallel(n_jobs=-1)]: Done 8322 tasks      | elapsed:  2.1min\n",
      "[Parallel(n_jobs=-1)]: Done 8453 tasks      | elapsed:  2.1min\n",
      "[Parallel(n_jobs=-1)]: Done 8584 tasks      | elapsed:  2.1min\n",
      "[Parallel(n_jobs=-1)]: Done 8717 tasks      | elapsed:  2.1min\n",
      "[Parallel(n_jobs=-1)]: Done 8850 tasks      | elapsed:  2.2min\n",
      "[Parallel(n_jobs=-1)]: Done 8985 tasks      | elapsed:  2.2min\n",
      "[Parallel(n_jobs=-1)]: Done 9120 tasks      | elapsed:  2.2min\n",
      "[Parallel(n_jobs=-1)]: Done 9257 tasks      | elapsed:  2.2min\n",
      "[Parallel(n_jobs=-1)]: Done 9394 tasks      | elapsed:  2.3min\n",
      "[Parallel(n_jobs=-1)]: Done 9533 tasks      | elapsed:  2.3min\n",
      "[Parallel(n_jobs=-1)]: Done 9672 tasks      | elapsed:  2.3min\n",
      "[Parallel(n_jobs=-1)]: Done 9813 tasks      | elapsed:  2.4min\n",
      "[Parallel(n_jobs=-1)]: Done 10000 out of 10000 | elapsed:  2.4min finished\n"
     ]
    }
   ],
   "source": [
    "if not test:\n",
    "    # run the simulation in parallel\n",
    "    # df must be a pandas dataframe\n",
    "\n",
    "    charge_sims = joblib.Parallel(verbose=10, n_jobs=-1)(joblib.delayed(sim.simulate_person_load)(\n",
    "        trips_df=df_i, \n",
    "        existing_load=existing_load,\n",
    "        simulation_id=simulation_id,\n",
    "        managed=False) \n",
    "        for df_i in df_list)\n",
    "else: \n",
    "    sim.simulate_person_load(trips_df=df, \n",
    "        existing_load=existing_load,\n",
    "        simulation_id=simulation_id,\n",
    "        managed=False) "
   ]
  },
  {
   "attachments": {},
   "cell_type": "markdown",
   "metadata": {},
   "source": [
    "### Restack the DataFrames"
   ]
  },
  {
   "cell_type": "code",
   "execution_count": 11,
   "metadata": {
    "tags": []
   },
   "outputs": [],
   "source": [
    "# restack the dataframes\n",
    "charges_list = [x['charges'] for x in charge_sims]\n",
    "loads_list = [x['loads'] for x in charge_sims]"
   ]
  },
  {
   "cell_type": "code",
   "execution_count": 12,
   "metadata": {
    "tags": []
   },
   "outputs": [],
   "source": [
    "# restack the dataframes\n",
    "charges_df = pd.concat(charges_list)\n",
    "loads_df = pd.concat(loads_list) # huge ~200 million rows"
   ]
  },
  {
   "cell_type": "code",
   "execution_count": 14,
   "metadata": {},
   "outputs": [],
   "source": [
    "charges_df.to_parquet(os.path.join(datadir, f'charges_{mode}_{simulation_id}.parquet'))\n",
    "loads_df.to_parquet(os.path.join(datadir, f'loads_{mode}_{simulation_id}.parquet'))"
   ]
  },
  {
   "cell_type": "code",
   "execution_count": null,
   "metadata": {},
   "outputs": [],
   "source": []
  }
 ],
 "metadata": {
  "kernelspec": {
   "display_name": "Python 3 (ipykernel)",
   "language": "python",
   "name": "python3"
  },
  "language_info": {
   "codemirror_mode": {
    "name": "ipython",
    "version": 3
   },
   "file_extension": ".py",
   "mimetype": "text/x-python",
   "name": "python",
   "nbconvert_exporter": "python",
   "pygments_lexer": "ipython3",
   "version": "3.11.3"
  }
 },
 "nbformat": 4,
 "nbformat_minor": 4
}
