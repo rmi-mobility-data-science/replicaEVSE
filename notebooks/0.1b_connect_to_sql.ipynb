{
 "cells": [
  {
   "attachments": {},
   "cell_type": "markdown",
   "metadata": {},
   "source": [
    "# Read in the parquet data tables via dask.DataFrames and create MySQL tables"
   ]
  },
  {
   "cell_type": "code",
   "execution_count": 3,
   "metadata": {},
   "outputs": [
    {
     "name": "stdout",
     "output_type": "stream",
     "text": [
      "[########################################] | 100% Completed | 34.05 s\n",
      "[########################################] | 100% Completed | 34.15 s\n",
      "[########################################] | 100% Completed | 123.45 s\n",
      "[########################################] | 100% Completed | 121.82 s\n",
      "[########################################] | 100% Completed | 262.00 s\n",
      "[########################################] | 100% Completed | 255.31 s\n"
     ]
    }
   ],
   "source": [
    "import sqlalchemy as sa\n",
    "import pymysql\n",
    "import dask.dataframe as dd\n",
    "import pandas as pd\n",
    "from dask.diagnostics import ProgressBar\n",
    "pbar = ProgressBar()\n",
    "pbar.register()\n",
    "\n",
    "pd.set_option('display.max_columns', None)\n",
    "\n",
    "with open('../src/metadata/MySQLpwd.txt') as f:\n",
    "    pw = f.readlines()\n",
    "pw = pw[0]\n",
    "\n",
    "# define where the data is\n",
    "popparquet = 'northwest_2021_Q4_population.parquet'\n",
    "tripsatparquet = 'northwest_2021_Q4_saturday_trip.parquet'\n",
    "tripthuparquet = 'northwest_2021_Q4_thursday_trip.parquet'\n",
    "datapath = '../../data/'\n",
    "\n",
    "# read in the data\n",
    "pop_df = dd.read_parquet(datapath + popparquet)\n",
    "trip_sat_df = dd.read_parquet(datapath + tripsatparquet)\n",
    "trip_thu_df = dd.read_parquet(datapath + tripthuparquet)\n",
    "\n",
    "# add in a weekday column to the trips data\n",
    "trip_sat_df['weekday'] = 'saturday'\n",
    "trip_thu_df['weekday'] = 'thursday'\n",
    "\n",
    "# sort the pop data. ~ 5 minutes\n",
    "sorted_pop_df = pop_df.sort_values(by='person_id', ascending=True)\n",
    "\n",
    "# these two tables will get appended so no need to sort\n",
    "# sorted_trip_sat_df = trip_sat_df.sort_values(by='person_id', ascending=True)\n",
    "# sorted_trip_thu_df = trip_thu_df.sort_values(by='person_id', ascending=True)\n",
    "\n",
    "\n",
    "# these are the general parameters for the connection\n",
    "# make sure you defined your password in the metadata folder\n",
    "user = 'root'\n",
    "server = 'localhost'\n",
    "database = 'replica'\n",
    "to_sql_uri = f'mysql+pymysql://{user}:{pw}@{server}/{database}'   \n",
    "\n",
    "\n"
   ]
  },
  {
   "attachments": {},
   "cell_type": "markdown",
   "metadata": {},
   "source": [
    "## Here is the step where we add the data to the MySQL server\n"
   ]
  },
  {
   "cell_type": "code",
   "execution_count": null,
   "metadata": {},
   "outputs": [],
   "source": [
    "# this will create the database if it doesn't exist\n",
    "# if you want to append to an existing database, change if_exists to 'append'\n",
    "sorted_pop_df.to_sql('population', uri=to_sql_uri, if_exists='replace', index=False)"
   ]
  },
  {
   "attachments": {},
   "cell_type": "markdown",
   "metadata": {},
   "source": [
    "SQL didnt like the timedelta dtype so converting it. "
   ]
  },
  {
   "cell_type": "code",
   "execution_count": 22,
   "metadata": {},
   "outputs": [
    {
     "data": {
      "text/plain": [
       "dtype('<m8[ns]')"
      ]
     },
     "execution_count": 22,
     "metadata": {},
     "output_type": "execute_result"
    }
   ],
   "source": [
    "trip_sat_df\n",
    "trip_sat_df['start_time'].dtype"
   ]
  },
  {
   "cell_type": "code",
   "execution_count": null,
   "metadata": {},
   "outputs": [],
   "source": [
    "trip_sat_df['start_time'] = trip_sat_df['start_time'].values.astype('datetime64[ns]')\n",
    "trip_sat_df['end_time'] = trip_sat_df['end_time'].values.astype('datetime64[ns]')\n",
    "\n",
    "trip_thu_df['start_time'] = trip_thu_df['start_time'].values.astype('datetime64[ns]')\n",
    "trip_thu_df['end_time'] = trip_thu_df['end_time'].values.astype('datetime64[ns]')"
   ]
  },
  {
   "cell_type": "code",
   "execution_count": 24,
   "metadata": {},
   "outputs": [
    {
     "data": {
      "text/plain": [
       "activity_id                            object\n",
       "person_id                              object\n",
       "mode                                   object\n",
       "travel_purpose                         object\n",
       "previous_activity_type                 object\n",
       "start_time                     datetime64[ns]\n",
       "end_time                       datetime64[ns]\n",
       "distance_miles                        float64\n",
       "vehicle_type                           object\n",
       "origin_bgrp                            object\n",
       "origin_bgrp_lat                       float64\n",
       "origin_bgrp_lng                       float64\n",
       "destination_bgrp                       object\n",
       "destination_bgrp_lat                  float64\n",
       "destination_bgrp_lng                  float64\n",
       "origin_land_use_l1                     object\n",
       "origin_land_use_l2                     object\n",
       "origin_building_use_l1                 object\n",
       "origin_building_use_l2                 object\n",
       "destination_land_use_l1                object\n",
       "destination_land_use_l2                object\n",
       "destination_building_use_l1            object\n",
       "destination_building_use_l2            object\n",
       "origin_lat                            float64\n",
       "origin_lng                            float64\n",
       "destination_lat                       float64\n",
       "destination_lng                       float64\n",
       "weekday                                object\n",
       "dtype: object"
      ]
     },
     "execution_count": 24,
     "metadata": {},
     "output_type": "execute_result"
    }
   ],
   "source": [
    "trip_sat_df.dtypes"
   ]
  },
  {
   "cell_type": "code",
   "execution_count": 25,
   "metadata": {},
   "outputs": [
    {
     "name": "stdout",
     "output_type": "stream",
     "text": [
      "[###########################             ] | 68% Completed | 15m 3sss"
     ]
    }
   ],
   "source": [
    "trip_sat_df.to_sql('trips', uri=to_sql_uri, if_exists='replace', index=False)"
   ]
  },
  {
   "cell_type": "code",
   "execution_count": null,
   "metadata": {},
   "outputs": [],
   "source": [
    "trip_thu_df['start_time'] = trip_thu_df['start_time'].values.astype('datetime64[ns]')\n",
    "trip_thu_df['end_time'] = trip_thu_df['end_time'].values.astype('datetime64[ns]')\n",
    "trip_thu_df.to_sql('trips', uri=to_sql_uri, if_exists='append', index=False)"
   ]
  }
 ],
 "metadata": {
  "kernelspec": {
   "display_name": "py311",
   "language": "python",
   "name": "python3"
  },
  "language_info": {
   "codemirror_mode": {
    "name": "ipython",
    "version": 3
   },
   "file_extension": ".py",
   "mimetype": "text/x-python",
   "name": "python",
   "nbconvert_exporter": "python",
   "pygments_lexer": "ipython3",
   "version": "3.11.1"
  },
  "orig_nbformat": 4
 },
 "nbformat": 4,
 "nbformat_minor": 2
}
