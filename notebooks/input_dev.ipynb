{
 "cells": [
  {
   "cell_type": "code",
   "execution_count": 1,
   "metadata": {},
   "outputs": [],
   "source": [
    "import pandas as pd\n",
    "import dask.dataframe as dd\n",
    "datadir = '../../data/'"
   ]
  },
  {
   "cell_type": "code",
   "execution_count": 2,
   "metadata": {},
   "outputs": [
    {
     "data": {
      "text/html": [
       "<div>\n",
       "<style scoped>\n",
       "    .dataframe tbody tr th:only-of-type {\n",
       "        vertical-align: middle;\n",
       "    }\n",
       "\n",
       "    .dataframe tbody tr th {\n",
       "        vertical-align: top;\n",
       "    }\n",
       "\n",
       "    .dataframe thead th {\n",
       "        text-align: right;\n",
       "    }\n",
       "</style>\n",
       "<table border=\"1\" class=\"dataframe\">\n",
       "  <thead>\n",
       "    <tr style=\"text-align: right;\">\n",
       "      <th></th>\n",
       "      <th>year</th>\n",
       "      <th>county</th>\n",
       "      <th>nEV</th>\n",
       "      <th>efficiency_kwh_mi</th>\n",
       "    </tr>\n",
       "  </thead>\n",
       "  <tbody>\n",
       "    <tr>\n",
       "      <th>0</th>\n",
       "      <td>2022</td>\n",
       "      <td>King</td>\n",
       "      <td>5</td>\n",
       "      <td>0.3</td>\n",
       "    </tr>\n",
       "    <tr>\n",
       "      <th>1</th>\n",
       "      <td>2022</td>\n",
       "      <td>Spokane</td>\n",
       "      <td>2</td>\n",
       "      <td>0.3</td>\n",
       "    </tr>\n",
       "    <tr>\n",
       "      <th>2</th>\n",
       "      <td>2023</td>\n",
       "      <td>King</td>\n",
       "      <td>6</td>\n",
       "      <td>0.4</td>\n",
       "    </tr>\n",
       "    <tr>\n",
       "      <th>3</th>\n",
       "      <td>2023</td>\n",
       "      <td>Spokane</td>\n",
       "      <td>3</td>\n",
       "      <td>0.4</td>\n",
       "    </tr>\n",
       "  </tbody>\n",
       "</table>\n",
       "</div>"
      ],
      "text/plain": [
       "   year   county  nEV  efficiency_kwh_mi\n",
       "0  2022     King    5                0.3\n",
       "1  2022  Spokane    2                0.3\n",
       "2  2023     King    6                0.4\n",
       "3  2023  Spokane    3                0.4"
      ]
     },
     "execution_count": 2,
     "metadata": {},
     "output_type": "execute_result"
    }
   ],
   "source": [
    "ev_df = pd.DataFrame({\n",
    "    'year': [2022, 2022, 2023, 2023],\n",
    "    'county': ['King', 'Spokane', 'King', 'Spokane'],\n",
    "    'nEV': [5, 2, 6, 3],\n",
    "    'efficiency_kwh_mi': [0.3, 0.3, 0.4, 0.4],\n",
    "})\n",
    "ev_df"
   ]
  },
  {
   "cell_type": "code",
   "execution_count": 3,
   "metadata": {},
   "outputs": [],
   "source": [
    "import numpy as np\n"
   ]
  },
  {
   "cell_type": "code",
   "execution_count": 4,
   "metadata": {},
   "outputs": [
    {
     "data": {
      "text/html": [
       "<div>\n",
       "<style scoped>\n",
       "    .dataframe tbody tr th:only-of-type {\n",
       "        vertical-align: middle;\n",
       "    }\n",
       "\n",
       "    .dataframe tbody tr th {\n",
       "        vertical-align: top;\n",
       "    }\n",
       "\n",
       "    .dataframe thead th {\n",
       "        text-align: right;\n",
       "    }\n",
       "</style>\n",
       "<table border=\"1\" class=\"dataframe\">\n",
       "  <thead>\n",
       "    <tr style=\"text-align: right;\">\n",
       "      <th></th>\n",
       "      <th>person_id</th>\n",
       "      <th>County</th>\n",
       "      <th>Year</th>\n",
       "      <th>efficiency_kwh_mi</th>\n",
       "    </tr>\n",
       "  </thead>\n",
       "  <tbody>\n",
       "    <tr>\n",
       "      <th>8</th>\n",
       "      <td>8</td>\n",
       "      <td>King</td>\n",
       "      <td>2022</td>\n",
       "      <td>0.3</td>\n",
       "    </tr>\n",
       "    <tr>\n",
       "      <th>1</th>\n",
       "      <td>1</td>\n",
       "      <td>King</td>\n",
       "      <td>2022</td>\n",
       "      <td>0.3</td>\n",
       "    </tr>\n",
       "    <tr>\n",
       "      <th>5</th>\n",
       "      <td>5</td>\n",
       "      <td>King</td>\n",
       "      <td>2022</td>\n",
       "      <td>0.3</td>\n",
       "    </tr>\n",
       "    <tr>\n",
       "      <th>0</th>\n",
       "      <td>0</td>\n",
       "      <td>King</td>\n",
       "      <td>2022</td>\n",
       "      <td>0.3</td>\n",
       "    </tr>\n",
       "    <tr>\n",
       "      <th>7</th>\n",
       "      <td>7</td>\n",
       "      <td>King</td>\n",
       "      <td>2022</td>\n",
       "      <td>0.3</td>\n",
       "    </tr>\n",
       "    <tr>\n",
       "      <th>18</th>\n",
       "      <td>18</td>\n",
       "      <td>Spokane</td>\n",
       "      <td>2022</td>\n",
       "      <td>0.3</td>\n",
       "    </tr>\n",
       "    <tr>\n",
       "      <th>11</th>\n",
       "      <td>11</td>\n",
       "      <td>Spokane</td>\n",
       "      <td>2022</td>\n",
       "      <td>0.3</td>\n",
       "    </tr>\n",
       "    <tr>\n",
       "      <th>8</th>\n",
       "      <td>8</td>\n",
       "      <td>King</td>\n",
       "      <td>2023</td>\n",
       "      <td>0.4</td>\n",
       "    </tr>\n",
       "    <tr>\n",
       "      <th>1</th>\n",
       "      <td>1</td>\n",
       "      <td>King</td>\n",
       "      <td>2023</td>\n",
       "      <td>0.4</td>\n",
       "    </tr>\n",
       "    <tr>\n",
       "      <th>5</th>\n",
       "      <td>5</td>\n",
       "      <td>King</td>\n",
       "      <td>2023</td>\n",
       "      <td>0.4</td>\n",
       "    </tr>\n",
       "    <tr>\n",
       "      <th>0</th>\n",
       "      <td>0</td>\n",
       "      <td>King</td>\n",
       "      <td>2023</td>\n",
       "      <td>0.4</td>\n",
       "    </tr>\n",
       "    <tr>\n",
       "      <th>7</th>\n",
       "      <td>7</td>\n",
       "      <td>King</td>\n",
       "      <td>2023</td>\n",
       "      <td>0.4</td>\n",
       "    </tr>\n",
       "    <tr>\n",
       "      <th>2</th>\n",
       "      <td>2</td>\n",
       "      <td>King</td>\n",
       "      <td>2023</td>\n",
       "      <td>0.4</td>\n",
       "    </tr>\n",
       "    <tr>\n",
       "      <th>18</th>\n",
       "      <td>18</td>\n",
       "      <td>Spokane</td>\n",
       "      <td>2023</td>\n",
       "      <td>0.4</td>\n",
       "    </tr>\n",
       "    <tr>\n",
       "      <th>11</th>\n",
       "      <td>11</td>\n",
       "      <td>Spokane</td>\n",
       "      <td>2023</td>\n",
       "      <td>0.4</td>\n",
       "    </tr>\n",
       "    <tr>\n",
       "      <th>15</th>\n",
       "      <td>15</td>\n",
       "      <td>Spokane</td>\n",
       "      <td>2023</td>\n",
       "      <td>0.4</td>\n",
       "    </tr>\n",
       "  </tbody>\n",
       "</table>\n",
       "</div>"
      ],
      "text/plain": [
       "    person_id   County  Year  efficiency_kwh_mi\n",
       "8           8     King  2022                0.3\n",
       "1           1     King  2022                0.3\n",
       "5           5     King  2022                0.3\n",
       "0           0     King  2022                0.3\n",
       "7           7     King  2022                0.3\n",
       "18         18  Spokane  2022                0.3\n",
       "11         11  Spokane  2022                0.3\n",
       "8           8     King  2023                0.4\n",
       "1           1     King  2023                0.4\n",
       "5           5     King  2023                0.4\n",
       "0           0     King  2023                0.4\n",
       "7           7     King  2023                0.4\n",
       "2           2     King  2023                0.4\n",
       "18         18  Spokane  2023                0.4\n",
       "11         11  Spokane  2023                0.4\n",
       "15         15  Spokane  2023                0.4"
      ]
     },
     "execution_count": 4,
     "metadata": {},
     "output_type": "execute_result"
    }
   ],
   "source": [
    "import pandas as pd\n",
    "import numpy as np\n",
    "\n",
    "# Sample dataframe with people and their home county\n",
    "people_df = pd.DataFrame({\n",
    "    'person_id': np.arange(20),\n",
    "    'County': ['King']*10 + ['Spokane']*10,\n",
    "})\n",
    "# Population dataframe with county, year, and number of people to select\n",
    "ev_df = pd.DataFrame({\n",
    "    'Year': [2022, 2022, 2023, 2023],\n",
    "    'County': ['King', 'Spokane', 'King', 'Spokane'],\n",
    "    'nEV': [5, 2, 6, 3],\n",
    "    'efficiency_kwh_mi': [0.3, 0.3, 0.4, 0.4],\n",
    "})\n",
    "\n",
    "selected_people = []\n",
    "for _, row in ev_df.iterrows():\n",
    "    county = row['County']\n",
    "    year = row['Year']\n",
    "    efficiency_kwh_mi = row['efficiency_kwh_mi']\n",
    "    num_to_select = row['nEV']\n",
    "    county_df = people_df[(people_df['County'] == county)]\n",
    "    selected = county_df.sample(n=num_to_select, replace=False, random_state=42)\n",
    "    # Add the year column to the selected dataframe\n",
    "    selected['Year'] = year  \n",
    "    # Add the efficiency column to the selected dataframe\n",
    "    selected['efficiency_kwh_mi'] = efficiency_kwh_mi  \n",
    "    selected_people.append(selected)\n",
    "\n",
    "# Concatenate the selected people into a final dataframe\n",
    "final_df = pd.concat(selected_people)\n",
    "final_df  "
   ]
  },
  {
   "attachments": {},
   "cell_type": "markdown",
   "metadata": {},
   "source": [
    "# to make this work, we need to add counties to the large dataframe. \n",
    "\n",
    "The problem with this is that commercial trips dont aren't modeled in the population table so they do not have home counties. We can use distination blockgroups for them and then match the blockgroups to counties. "
   ]
  },
  {
   "cell_type": "code",
   "execution_count": 2,
   "metadata": {},
   "outputs": [],
   "source": [
    "df = pd.read_parquet(datadir+'/wa_pop_and_trips_sorted.parquet') # len = 51727268\n",
    "counties = pd.read_parquet(datadir+'/population_counties_dataset.parquet', engine='pyarrow')\n",
    "cdf = pd.merge(df, counties, on='person_id', how='left')\n",
    "\n",
    "# change data types for consistency\n",
    "cdf['home_cty'] = cdf['home_cty'].astype(str)\n",
    "cdf['home_st'] = cdf['home_st'].astype(str)\n",
    "\n",
    "cdf.to_parquet(datadir+'/wa_pop_and_trips_sorted_county.parquet', engine='pyarrow')"
   ]
  },
  {
   "cell_type": "code",
   "execution_count": 2,
   "metadata": {},
   "outputs": [],
   "source": [
    "cdf = dd.read_parquet(datadir+'/wa_pop_and_trips_sorted_county.parquet', engine='pyarrow')"
   ]
  },
  {
   "cell_type": "code",
   "execution_count": 6,
   "metadata": {},
   "outputs": [
    {
     "data": {
      "text/plain": [
       "mode\n",
       "PRIVATE_AUTO         27124460\n",
       "CARPOOL              16417151\n",
       "WALKING               4937625\n",
       "COMMERCIAL            1452450\n",
       "OTHER_TRAVEL_MODE      632101\n",
       "ON_DEMAND_AUTO         465640\n",
       "PUBLIC_TRANSIT         406620\n",
       "BIKING                 291221\n",
       "Name: count, dtype: int64"
      ]
     },
     "execution_count": 6,
     "metadata": {},
     "output_type": "execute_result"
    }
   ],
   "source": [
    "cdf['mode'].value_counts()"
   ]
  },
  {
   "cell_type": "code",
   "execution_count": 13,
   "metadata": {},
   "outputs": [
    {
     "data": {
      "text/plain": [
       "0             Grant County, WA\n",
       "1             Grant County, WA\n",
       "6             Grant County, WA\n",
       "7             Grant County, WA\n",
       "8             Grant County, WA\n",
       "                   ...        \n",
       "51727263       King County, WA\n",
       "51727264       King County, WA\n",
       "51727265       King County, WA\n",
       "51727266    Spokane County, WA\n",
       "51727267    Spokane County, WA\n",
       "Name: home_cty, Length: 27124460, dtype: object"
      ]
     },
     "execution_count": 13,
     "metadata": {},
     "output_type": "execute_result"
    }
   ],
   "source": [
    "cdf.loc[cdf['mode'] == 'PRIVATE_AUTO']['home_cty']"
   ]
  },
  {
   "cell_type": "code",
   "execution_count": 3,
   "metadata": {},
   "outputs": [],
   "source": [
    "# read in blockgroup info\n",
    "bg_df = dd.read_csv(datadir+'blockgroup_counties.csv')\n",
    "bg_df['destination_bgrp'] = bg_df.destination_bgrp.astype(str)\n",
    "bg_df['destination_county'] = bg_df.County.astype(str)"
   ]
  },
  {
   "cell_type": "code",
   "execution_count": 9,
   "metadata": {},
   "outputs": [],
   "source": [
    "weekday = 'thursday'\n",
    "mode = 'COMMERCIAL'\n",
    "vehicle_type = 'HEAVY_COMMERCIAL'\n",
    "hdvs = cdf.loc[cdf['vehicle_type'] == vehicle_type]\n",
    "# merge with the blockgroup county info\n",
    "hdvs_cnty = pd.merge(hdvs, bg_df, on='destination_bgrp', how='left')"
   ]
  },
  {
   "cell_type": "code",
   "execution_count": 4,
   "metadata": {},
   "outputs": [],
   "source": [
    "merged_df = dd.merge(cdf, bg_df, on='destination_bgrp', how='left')"
   ]
  },
  {
   "cell_type": "code",
   "execution_count": 12,
   "metadata": {},
   "outputs": [
    {
     "data": {
      "text/html": [
       "<div>\n",
       "<style scoped>\n",
       "    .dataframe tbody tr th:only-of-type {\n",
       "        vertical-align: middle;\n",
       "    }\n",
       "\n",
       "    .dataframe tbody tr th {\n",
       "        vertical-align: top;\n",
       "    }\n",
       "\n",
       "    .dataframe thead th {\n",
       "        text-align: right;\n",
       "    }\n",
       "</style>\n",
       "<table border=\"1\" class=\"dataframe\">\n",
       "  <thead>\n",
       "    <tr style=\"text-align: right;\">\n",
       "      <th></th>\n",
       "      <th>home_cty</th>\n",
       "      <th>County</th>\n",
       "    </tr>\n",
       "  </thead>\n",
       "  <tbody>\n",
       "    <tr>\n",
       "      <th>0</th>\n",
       "      <td>Grant County, WA</td>\n",
       "      <td>Grant County</td>\n",
       "    </tr>\n",
       "    <tr>\n",
       "      <th>1</th>\n",
       "      <td>Grant County, WA</td>\n",
       "      <td>Grant County</td>\n",
       "    </tr>\n",
       "    <tr>\n",
       "      <th>2</th>\n",
       "      <td>Grant County, WA</td>\n",
       "      <td>Grant County</td>\n",
       "    </tr>\n",
       "    <tr>\n",
       "      <th>3</th>\n",
       "      <td>Grant County, WA</td>\n",
       "      <td>Grant County</td>\n",
       "    </tr>\n",
       "    <tr>\n",
       "      <th>4</th>\n",
       "      <td>Grant County, WA</td>\n",
       "      <td>Grant County</td>\n",
       "    </tr>\n",
       "    <tr>\n",
       "      <th>...</th>\n",
       "      <td>...</td>\n",
       "      <td>...</td>\n",
       "    </tr>\n",
       "    <tr>\n",
       "      <th>57909189</th>\n",
       "      <td>King County, WA</td>\n",
       "      <td>King County</td>\n",
       "    </tr>\n",
       "    <tr>\n",
       "      <th>57909190</th>\n",
       "      <td>King County, WA</td>\n",
       "      <td>King County</td>\n",
       "    </tr>\n",
       "    <tr>\n",
       "      <th>57909191</th>\n",
       "      <td>King County, WA</td>\n",
       "      <td>King County</td>\n",
       "    </tr>\n",
       "    <tr>\n",
       "      <th>57909192</th>\n",
       "      <td>Spokane County, WA</td>\n",
       "      <td>Spokane County</td>\n",
       "    </tr>\n",
       "    <tr>\n",
       "      <th>57909193</th>\n",
       "      <td>Spokane County, WA</td>\n",
       "      <td>Spokane County</td>\n",
       "    </tr>\n",
       "  </tbody>\n",
       "</table>\n",
       "<p>57909194 rows × 2 columns</p>\n",
       "</div>"
      ],
      "text/plain": [
       "                    home_cty          County\n",
       "0           Grant County, WA    Grant County\n",
       "1           Grant County, WA    Grant County\n",
       "2           Grant County, WA    Grant County\n",
       "3           Grant County, WA    Grant County\n",
       "4           Grant County, WA    Grant County\n",
       "...                      ...             ...\n",
       "57909189     King County, WA     King County\n",
       "57909190     King County, WA     King County\n",
       "57909191     King County, WA     King County\n",
       "57909192  Spokane County, WA  Spokane County\n",
       "57909193  Spokane County, WA  Spokane County\n",
       "\n",
       "[57909194 rows x 2 columns]"
      ]
     },
     "execution_count": 12,
     "metadata": {},
     "output_type": "execute_result"
    }
   ],
   "source": [
    "merged_df[['home_cty', 'County']]"
   ]
  },
  {
   "cell_type": "code",
   "execution_count": 15,
   "metadata": {},
   "outputs": [
    {
     "data": {
      "text/plain": [
       "home_cty              County            \n",
       "King County, WA       King County           13053211\n",
       "Pierce County, WA     Pierce County          5351887\n",
       "                      Washington (state)     5351887\n",
       "Snohomish County, WA  Snohomish County       4745474\n",
       "Spokane County, WA    Spokane County         3398524\n",
       "                                              ...   \n",
       "Wasco County, OR      Adams County                 1\n",
       "Multnomah County, OR  San Juan County              1\n",
       "Wallowa County, OR    Columbia County              1\n",
       "Clatsop County, OR    Whatcom County               1\n",
       "Shoshone County, ID   Lincoln County               1\n",
       "Name: count, Length: 2510, dtype: int64"
      ]
     },
     "execution_count": 15,
     "metadata": {},
     "output_type": "execute_result"
    }
   ],
   "source": [
    "merged_df[['home_cty', 'County']].value_counts()"
   ]
  },
  {
   "cell_type": "code",
   "execution_count": 18,
   "metadata": {},
   "outputs": [],
   "source": [
    "counts = merged_df['home_cty'].value_counts(dropna=False)"
   ]
  },
  {
   "cell_type": "code",
   "execution_count": 22,
   "metadata": {},
   "outputs": [
    {
     "name": "stdout",
     "output_type": "stream",
     "text": [
      "home_cty\n",
      "King County, WA           14216415\n",
      "Pierce County, WA         11450816\n",
      "Snohomish County, WA       5535369\n",
      "Spokane County, WA         3447740\n",
      "Clark County, WA           2932717\n",
      "                            ...   \n",
      "Carter County, MT                1\n",
      "Sweet Grass County, MT           1\n",
      "Lincoln County, ID               1\n",
      "Clark County, ID                 1\n",
      "Power County, ID                 1\n",
      "Name: count, Length: 168, dtype: int64\n"
     ]
    }
   ],
   "source": [
    "counts"
   ]
  },
  {
   "cell_type": "code",
   "execution_count": 23,
   "metadata": {},
   "outputs": [
    {
     "data": {
      "text/plain": [
       "array(['Grant County, WA', 'Clark County, WA', 'Kitsap County, WA',\n",
       "       'Thurston County, WA', 'nan', 'Snohomish County, WA',\n",
       "       'Jefferson County, WA', 'Spokane County, WA', 'Whatcom County, WA',\n",
       "       'King County, WA', 'Pierce County, WA', 'Island County, WA',\n",
       "       'Klickitat County, WA', 'Mason County, WA', 'Cowlitz County, WA',\n",
       "       'Benton County, WA', 'Multnomah County, OR', 'Skagit County, WA',\n",
       "       'Kittitas County, WA', 'Yakima County, WA', 'Chelan County, WA',\n",
       "       'Franklin County, WA', 'Grays Harbor County, WA',\n",
       "       'Stevens County, WA', 'Okanogan County, WA', 'Lincoln County, WA',\n",
       "       'Clallam County, WA', 'Walla Walla County, WA',\n",
       "       'Bonner County, ID', 'Lewis County, WA', 'Latah County, ID', '\\\\N',\n",
       "       'Pend Oreille County, WA', 'Whitman County, WA',\n",
       "       'Washington County, OR', 'Douglas County, WA',\n",
       "       'Skamania County, WA', 'Adams County, WA', 'Marion County, OR',\n",
       "       'Wahkiakum County, WA', 'Asotin County, WA', 'Pacific County, WA',\n",
       "       'Nez Perce County, ID', 'Columbia County, OR',\n",
       "       'Kootenai County, ID', 'Wasco County, OR', 'Clackamas County, OR',\n",
       "       'Columbia County, WA', 'Umatilla County, OR',\n",
       "       'Boundary County, ID', 'San Juan County, WA', 'Douglas County, OR',\n",
       "       'Garfield County, WA', 'Deschutes County, OR',\n",
       "       'Clatsop County, OR', 'Ferry County, WA', 'Shoshone County, ID',\n",
       "       'Hood River County, OR', 'Clearwater County, ID',\n",
       "       'Benewah County, ID', 'Idaho County, ID', 'Polk County, OR',\n",
       "       'Sanders County, MT', 'Yamhill County, OR', 'Ada County, ID',\n",
       "       'Morrow County, OR', 'Grant County, OR', 'Deer Lodge County, MT',\n",
       "       'Linn County, OR', 'Union County, OR', 'Canyon County, ID',\n",
       "       'Lincoln County, MT', 'Twin Falls County, ID',\n",
       "       'Sherman County, OR', 'Rosebud County, MT', 'Lane County, OR',\n",
       "       'Jefferson County, OR', 'Tillamook County, OR',\n",
       "       'Klamath County, OR', 'Carbon County, MT', 'Park County, WY',\n",
       "       'Gilliam County, OR', 'Flathead County, MT', 'Lewis County, ID',\n",
       "       'Payette County, ID', 'Missoula County, MT', 'Jackson County, OR',\n",
       "       'Powder River County, MT', 'Ravalli County, MT',\n",
       "       'Washington County, ID', 'Gallatin County, MT', 'Baker County, OR',\n",
       "       'Lincoln County, OR', 'Curry County, OR', 'Bannock County, ID',\n",
       "       'Madison County, ID', 'Lake County, MT', 'Glacier County, MT',\n",
       "       'Lewis and Clark County, MT', 'Valley County, ID',\n",
       "       'Roosevelt County, MT', 'Cascade County, MT', 'Crook County, OR',\n",
       "       'Beaverhead County, MT', 'Malheur County, OR',\n",
       "       'Wallowa County, OR', 'Powell County, MT', 'Benton County, OR',\n",
       "       'Bingham County, ID', 'Jefferson County, MT', 'Boise County, ID',\n",
       "       'Bonneville County, ID', 'Park County, MT', 'Fergus County, MT',\n",
       "       'Lake County, OR', 'Coos County, OR', 'Madison County, MT',\n",
       "       'Granite County, MT', 'Yellowstone County, MT',\n",
       "       'Owyhee County, ID', 'Gem County, ID', 'Harney County, OR',\n",
       "       'Blaine County, MT', 'Elmore County, ID', 'Josephine County, OR',\n",
       "       'Wheeler County, OR', 'Custer County, ID', 'Lemhi County, ID',\n",
       "       'Adams County, ID', 'Cassia County, ID', 'Fremont County, WY',\n",
       "       'Blaine County, ID', 'Meagher County, MT', 'Garfield County, MT',\n",
       "       'Toole County, MT', 'Silver Bow County, MT', 'Valley County, MT',\n",
       "       'Hill County, MT', 'Lincoln County, WY', 'Jerome County, ID',\n",
       "       'Sweet Grass County, MT', 'Natrona County, WY',\n",
       "       'Minidoka County, ID', 'Jefferson County, ID',\n",
       "       'Musselshell County, MT', 'Teton County, ID', 'Mineral County, MT',\n",
       "       'Custer County, MT', 'Broadwater County, MT',\n",
       "       'Sweetwater County, WY', 'Caribou County, ID',\n",
       "       'Phillips County, MT', 'Laramie County, WY', 'Fremont County, ID',\n",
       "       'Outside of region', 'Albany County, WY', 'Oneida County, ID',\n",
       "       'Dawson County, MT', 'Chouteau County, MT', 'Teton County, MT',\n",
       "       'McCone County, MT', 'Carter County, MT', 'Big Horn County, WY',\n",
       "       'Gooding County, ID', 'Lincoln County, ID', 'Clark County, ID',\n",
       "       'Goshen County, WY', 'Power County, ID'], dtype=object)"
      ]
     },
     "execution_count": 23,
     "metadata": {},
     "output_type": "execute_result"
    }
   ],
   "source": [
    "merged_df['home_cty'].unique()"
   ]
  },
  {
   "cell_type": "code",
   "execution_count": 24,
   "metadata": {},
   "outputs": [
    {
     "data": {
      "text/plain": [
       "array(['Grant County', 'Clark County', 'King County', 'Kitsap County',\n",
       "       'Pierce County', 'Washington (state)', 'Thurston County',\n",
       "       'Spokane County', 'Snohomish County', 'Jefferson County',\n",
       "       'Skagit County', 'Whatcom County', 'Island County',\n",
       "       'Klickitat County', 'Lewis County', 'Mason County',\n",
       "       'Cowlitz County', 'Benton County', 'Yakima County',\n",
       "       'Kittitas County', 'Chelan County', 'Franklin County',\n",
       "       'Grays Harbor County', 'Douglas County', 'Walla Walla County',\n",
       "       'Stevens County', 'Okanogan County', 'Whitman County',\n",
       "       'Lincoln County', 'Clallam County', 'Pend Oreille County',\n",
       "       'Asotin County', 'Adams County', 'Skamania County',\n",
       "       'Pacific County', 'Wahkiakum County', 'Columbia County',\n",
       "       'Ferry County', 'San Juan County', 'Garfield County'], dtype=object)"
      ]
     },
     "execution_count": 24,
     "metadata": {},
     "output_type": "execute_result"
    }
   ],
   "source": [
    "merged_df['County'].unique()"
   ]
  },
  {
   "cell_type": "code",
   "execution_count": 5,
   "metadata": {},
   "outputs": [],
   "source": [
    "merged_df['destination_county'] = merged_df['County'] + ', WA'"
   ]
  },
  {
   "cell_type": "code",
   "execution_count": 6,
   "metadata": {},
   "outputs": [],
   "source": [
    "merged_df.to_parquet(datadir+'wa_pop_and_trips_sorted_county_2.parquet', engine='pyarrow')"
   ]
  },
  {
   "cell_type": "code",
   "execution_count": null,
   "metadata": {},
   "outputs": [],
   "source": []
  }
 ],
 "metadata": {
  "kernelspec": {
   "display_name": "py311",
   "language": "python",
   "name": "python3"
  },
  "language_info": {
   "codemirror_mode": {
    "name": "ipython",
    "version": 3
   },
   "file_extension": ".py",
   "mimetype": "text/x-python",
   "name": "python",
   "nbconvert_exporter": "python",
   "pygments_lexer": "ipython3",
   "version": "3.10.9"
  },
  "orig_nbformat": 4
 },
 "nbformat": 4,
 "nbformat_minor": 2
}
