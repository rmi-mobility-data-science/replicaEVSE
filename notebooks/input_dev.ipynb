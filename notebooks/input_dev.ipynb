{
 "cells": [
  {
   "cell_type": "code",
   "execution_count": 2,
   "metadata": {},
   "outputs": [],
   "source": [
    "import pandas as pd\n",
    "import numpy as np\n",
    "datadir = '../../data/'\n",
    "\n"
   ]
  },
  {
   "attachments": {},
   "cell_type": "markdown",
   "metadata": {},
   "source": [
    "# Select correct number of EVs (person_ids) from each county to simulate"
   ]
  },
  {
   "cell_type": "code",
   "execution_count": 15,
   "metadata": {},
   "outputs": [],
   "source": [
    "merged_df = pd.read_parquet(datadir+'wa_pop_and_trips_sorted_county.parquet', engine='pyarrow')"
   ]
  },
  {
   "attachments": {},
   "cell_type": "markdown",
   "metadata": {},
   "source": [
    "take a subset for speed"
   ]
  },
  {
   "cell_type": "code",
   "execution_count": 49,
   "metadata": {},
   "outputs": [],
   "source": [
    "small = df.head(100000).copy()\n"
   ]
  },
  {
   "cell_type": "code",
   "execution_count": 50,
   "metadata": {},
   "outputs": [],
   "source": [
    "county_list = small.destination_county.unique()\n",
    "\n",
    "# make up a random number of people to select for each county \n",
    "# since I dont have the real numbers yet. \n",
    "people_to_select = [np.random.randint(1, 5) for _ in range(len(county_list))]"
   ]
  },
  {
   "cell_type": "code",
   "execution_count": 51,
   "metadata": {},
   "outputs": [],
   "source": [
    "# make a data frame to mimic the output of the stock rollover model\n",
    "ev_df = pd.DataFrame({ 'county': county_list, 'nEV': people_to_select, 'ef': [0.3]*len(county_list)})"
   ]
  },
  {
   "cell_type": "code",
   "execution_count": 65,
   "metadata": {},
   "outputs": [],
   "source": [
    "def sample_people_by_county(df, ev_df, fraction=0.05):\n",
    "    \"\"\" Selects a random sample of people (representing EVs) from each county.\n",
    "    These numbers come from the stock rollover model.\n",
    "\n",
    "    Args:\n",
    "        df (_type_): _description_\n",
    "        county (_type_): _description_\n",
    "        num_to_select (_type_): _description_\n",
    "\n",
    "    Returns:\n",
    "        _type_: _description_\n",
    "    \"\"\"\n",
    "    # get the unique people in the dataframe\n",
    "    unique_df = df.drop_duplicates(subset=['person_id'])[['person_id', 'destination_county']]\n",
    "\n",
    "    reduced_df = []\n",
    "    for _, cnty in ev_df.iterrows():\n",
    "        county = cnty['county']\n",
    "        num_to_select = cnty['nEV']\n",
    "        \n",
    "        # slice the unique dataframe to only include the county\n",
    "        county_df = unique_df[(unique_df['destination_county'] == county)]\n",
    "\n",
    "        # make sure we don't select more people than are in the county\n",
    "        if num_to_select > len(county_df):\n",
    "            num_to_select = len(county_df)\n",
    "            print(f'Warning: {num_to_select} people selected for {county} but only {len(county_df)} people in that {county}')\n",
    "\n",
    "        if fraction is None:\n",
    "            # unique people in that county\n",
    "            selected = county_df.person_id.sample(n=num_to_select, replace=False, random_state=42)\n",
    "        else:\n",
    "            # unique people in that county\n",
    "            selected = county_df.person_id.sample(frac=fraction, replace=False, random_state=42)\n",
    "        \n",
    "        # grab only those selected people from the original dataframe\n",
    "        cnty_df = df[(df['person_id'].isin(selected))]\n",
    "\n",
    "        # append it to the reduced dataframe\n",
    "        reduced_df.append(cnty_df)\n",
    "\n",
    "    final_df = pd.concat(reduced_df)\n",
    "    return final_df"
   ]
  },
  {
   "attachments": {},
   "cell_type": "markdown",
   "metadata": {},
   "source": [
    "Try on the whole dataset"
   ]
  },
  {
   "cell_type": "code",
   "execution_count": 64,
   "metadata": {},
   "outputs": [],
   "source": [
    "df = merged_df\n",
    "county_list = df.destination_county.unique()\n",
    "people_to_select = [np.random.randint(2, 100) for _ in range(len(county_list))]\n",
    "# make a data frame to mimic the output of the stock rollover model\n",
    "ev_df = pd.DataFrame({ 'county': county_list, 'nEV': people_to_select, 'ef': 0.3})"
   ]
  },
  {
   "cell_type": "code",
   "execution_count": 66,
   "metadata": {},
   "outputs": [],
   "source": [
    "sub_df = sample_people_by_county(df, ev_df, fraction=0.05)"
   ]
  },
  {
   "cell_type": "code",
   "execution_count": null,
   "metadata": {},
   "outputs": [],
   "source": []
  }
 ],
 "metadata": {
  "kernelspec": {
   "display_name": "py311",
   "language": "python",
   "name": "python3"
  },
  "language_info": {
   "codemirror_mode": {
    "name": "ipython",
    "version": 3
   },
   "file_extension": ".py",
   "mimetype": "text/x-python",
   "name": "python",
   "nbconvert_exporter": "python",
   "pygments_lexer": "ipython3",
   "version": "3.11.3"
  },
  "orig_nbformat": 4
 },
 "nbformat": 4,
 "nbformat_minor": 2
}
