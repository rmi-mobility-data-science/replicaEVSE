{
 "cells": [
  {
   "attachments": {},
   "cell_type": "markdown",
   "metadata": {},
   "source": [
    "# Clean the data and make parquet files\n",
    "\n",
    " The files we were given for the northwest region from replica have header rows embedded through out due to the way the google cloud on their end stacks things.\n",
    "\n",
    " Here we clean convert every column to strings and then remove those rows and save the data to parquet files which are easier to deal with.  \n",
    "\n"
   ]
  },
  {
   "cell_type": "code",
   "execution_count": 2,
   "metadata": {},
   "outputs": [],
   "source": [
    "%load_ext autoreload\n",
    "%autoreload 2\n",
    "from replicaEVSE import datautils as du\n",
    "import os\n",
    "import dask.dataframe as dd\n",
    "import pandas as pd\n",
    "\n",
    "datadir = '../../data/'"
   ]
  },
  {
   "attachments": {},
   "cell_type": "markdown",
   "metadata": {},
   "source": [
    "### path to the data"
   ]
  },
  {
   "cell_type": "code",
   "execution_count": 3,
   "metadata": {},
   "outputs": [],
   "source": [
    "datapath = '../../data/'\n",
    "popfile = 'northwest_2021_Q4_population.csv'\n",
    "tripsatfile = 'northwest_2021_Q4_saturday_trip.csv'\n",
    "tripthufile = 'northwest_2021_Q4_thursday_trip.csv'"
   ]
  },
  {
   "attachments": {},
   "cell_type": "markdown",
   "metadata": {},
   "source": [
    "### load and convert all the data to strings"
   ]
  },
  {
   "cell_type": "code",
   "execution_count": null,
   "metadata": {},
   "outputs": [],
   "source": [
    "pop_df = du.load_data(os.path.join(datapath, popfile))\n",
    "tripsat_df = du.load_data(os.path.join(datapath, tripsatfile))\n",
    "tripthu_df = du.load_data(os.path.join(datapath, tripthufile))"
   ]
  },
  {
   "attachments": {},
   "cell_type": "markdown",
   "metadata": {},
   "source": [
    "### clean the data of bad rows (embedded headers in the data) and return the dask data frames for inspection."
   ]
  },
  {
   "cell_type": "code",
   "execution_count": null,
   "metadata": {},
   "outputs": [],
   "source": [
    "pop_df = du.clean_pop_data(pop_df)\n",
    "tripsat_df = du.clean_trip_data(tripsat_df)\n",
    "tripthu_df = du.clean_trip_data(tripthu_df)"
   ]
  },
  {
   "attachments": {},
   "cell_type": "markdown",
   "metadata": {},
   "source": [
    "### Or we can use our wrapper to clean save the data in the parquet format to speed analysis later"
   ]
  },
  {
   "cell_type": "code",
   "execution_count": null,
   "metadata": {},
   "outputs": [],
   "source": [
    "popparquet = 'northwest_2021_Q4_population.parquet'\n",
    "tripsatparquet = 'northwest_2021_Q4_saturday_trip.parquet'\n",
    "tripthuparquet = 'northwest_2021_Q4_thursday_trip.parquet'\n",
    "pop_df = pop_df.to_parquet(os.path.join(datapath, popparquet))\n",
    "tripsat_df = tripsat_df.to_parquet(os.path.join(datapath, tripsatparquet))\n",
    "tripthu_df = tripthu_df.to_parquet(os.path.join(datapath, tripthuparquet))"
   ]
  },
  {
   "cell_type": "code",
   "execution_count": null,
   "metadata": {},
   "outputs": [],
   "source": [
    "popparquet = 'northwest_2021_Q4_population.parquet'\n",
    "tripthuparquet = 'northwest_2021_Q4_thursday_trip.parquet'\n",
    "df = dd.read_parquet(os.path.join(datapath, tripthuparquet))"
   ]
  },
  {
   "attachments": {},
   "cell_type": "markdown",
   "metadata": {},
   "source": [
    "# Make a joined table and save as parquet"
   ]
  },
  {
   "cell_type": "code",
   "execution_count": 4,
   "metadata": {},
   "outputs": [],
   "source": [
    "# get list of blockgroups\n",
    "gdf = pd.read_pickle(datadir+'/blockgroup_boundaries.pkl')\n",
    "bgrp_list = list(gdf.GEOID.values)\n",
    "\n",
    "trip_sat_ddf = dd.read_parquet(datadir+'/northwest_2021_Q4_saturday_trip.parquet')\n",
    "trip_thu_ddf = dd.read_parquet(datadir+'/northwest_2021_Q4_thursday_trip.parquet')\n",
    "\n",
    "pop_ddf = dd.read_parquet(datadir+'/northwest_2021_Q4_population.parquet')\n",
    "# pop_ddf = dd.merge(pop_ddf, counties, on='person_id', how='left')\n",
    "\n",
    "\n",
    "trip_sat_ddf['weekday'] = 'saturday'\n",
    "trip_thu_ddf['weekday'] = 'thursday'\n",
    "\n",
    "# stack the two dataframes\n",
    "trips = dd.concat([trip_sat_ddf, trip_thu_ddf], axis=0, keys=[\"saturday\", \"thursday\"])\n",
    "\n",
    "\n",
    "# only trips that end in WA\n",
    "trips_ddf = trips.loc[trips['destination_bgrp'].isin(bgrp_list)]\n",
    " \n",
    "merged_ddf = dd.merge(trips_ddf, pop_ddf, on='person_id', how='left')\n",
    "\n",
    "# Create charge_type column from travel_purpose column\n",
    "merged_ddf['charge_type'] = merged_ddf.travel_purpose\n",
    "\n",
    "merged_ddf['charge_type'] = merged_ddf.travel_purpose\n",
    "merged_ddf['charge_type'] = merged_ddf['charge_type'].where(\n",
    "    merged_ddf.charge_type.isin(\n",
    "    ['WORK', 'HOME']), 'PUBLIC')\n",
    "\n"
   ]
  },
  {
   "cell_type": "code",
   "execution_count": 5,
   "metadata": {},
   "outputs": [
    {
     "ename": "",
     "evalue": "",
     "output_type": "error",
     "traceback": [
      "\u001b[1;31mCanceled future for execute_request message before replies were done"
     ]
    },
    {
     "ename": "",
     "evalue": "",
     "output_type": "error",
     "traceback": [
      "\u001b[1;31mThe Kernel crashed while executing code in the the current cell or a previous cell. Please review the code in the cell(s) to identify a possible cause of the failure. Click <a href='https://aka.ms/vscodeJupyterKernelCrash'>here</a> for more info. View Jupyter <a href='command:jupyter.viewOutput'>log</a> for further details."
     ]
    }
   ],
   "source": [
    "# sort the table before saving it. needs to be sorted by person_id most critically\n",
    "# since we are then chunking the table. If they are not near each other we will get\n",
    "# some funky results. \n",
    "merged_ddf = merged_ddf.sort_values(by=['person_id', 'start_time', 'weekday']).reset_index(drop=True)"
   ]
  },
  {
   "cell_type": "code",
   "execution_count": null,
   "metadata": {},
   "outputs": [],
   "source": [
    "merged_ddf.to_parquet(datadir+'/wa_pop_and_trips.parquet', overwrite=True)"
   ]
  },
  {
   "cell_type": "code",
   "execution_count": 20,
   "metadata": {},
   "outputs": [],
   "source": [
    "dtype_dict = {\"person_id\": str, \"home_cty\": str, \"home_st\": str}\n",
    "counties = dd.read_csv(datadir+'replica-wa_tes-04_22_23-population_dataset.csv', dtype=dtype_dict)\n",
    "counties.to_parquet(datadir+'population_counties_dataset.parquet', engine='pyarrow', overwrite=True)"
   ]
  },
  {
   "attachments": {},
   "cell_type": "markdown",
   "metadata": {},
   "source": [
    "### make a table of just trips into WA"
   ]
  },
  {
   "cell_type": "code",
   "execution_count": 3,
   "metadata": {},
   "outputs": [],
   "source": [
    "\n",
    "# get list of blockgroups\n",
    "gdf = pd.read_pickle(datadir+'/blockgroup_boundaries.pkl')\n",
    "bgrp_list = list(gdf.GEOID.values)\n",
    "\n",
    "trip_sat_ddf = dd.read_parquet(datadir+'/northwest_2021_Q4_saturday_trip.parquet')\n",
    "trip_thu_ddf = dd.read_parquet(datadir+'/northwest_2021_Q4_thursday_trip.parquet')\n",
    "\n",
    "# dtype_dict = {\"person_id\": str, \"home_cty\": \"category\", \"home_st\": \"category\"}\n",
    "dtype_dict = {\"person_id\": str, \"home_cty\": str, \"home_st\": str}\n",
    "counties = dd.read_parquet(datadir+'/population_counties_dataset.parquet', engine='pyarrow')\n",
    "\n",
    "trip_sat_ddf['weekday'] = 'saturday'\n",
    "trip_thu_ddf['weekday'] = 'thursday'\n",
    "\n",
    "# stack the two dataframes\n",
    "trips = dd.concat([trip_sat_ddf, trip_thu_ddf], axis=0, keys=[\"saturday\", \"thursday\"])\n",
    "\n",
    "\n",
    "# only trips that end in WA\n",
    "trips_ddf = trips.loc[trips['destination_bgrp'].isin(bgrp_list)]"
   ]
  },
  {
   "cell_type": "code",
   "execution_count": 4,
   "metadata": {},
   "outputs": [],
   "source": [
    "trips_into_wa_len = len(trips_ddf) # = 51727268"
   ]
  },
  {
   "cell_type": "code",
   "execution_count": 8,
   "metadata": {},
   "outputs": [
    {
     "data": {
      "text/plain": [
       "51727268"
      ]
     },
     "execution_count": 8,
     "metadata": {},
     "output_type": "execute_result"
    }
   ],
   "source": [
    "merged_ddf = dd.read_parquet(datadir+'/wa_pop_and_trips.parquet')\n",
    "len(merged_ddf)"
   ]
  },
  {
   "cell_type": "code",
   "execution_count": 9,
   "metadata": {},
   "outputs": [
    {
     "data": {
      "text/plain": [
       "8538399"
      ]
     },
     "execution_count": 9,
     "metadata": {},
     "output_type": "execute_result"
    }
   ],
   "source": [
    "len(trips_ddf['person_id'].unique()) # = 8538399"
   ]
  },
  {
   "cell_type": "code",
   "execution_count": 12,
   "metadata": {},
   "outputs": [
    {
     "data": {
      "text/plain": [
       "PUBLIC    31224030\n",
       "HOME      16301817\n",
       "WORK       4201421\n",
       "Name: charge_type, dtype: int64"
      ]
     },
     "execution_count": 12,
     "metadata": {},
     "output_type": "execute_result"
    }
   ],
   "source": [
    "merged_ddf['charge_type'].value_counts().compute()"
   ]
  },
  {
   "cell_type": "code",
   "execution_count": 30,
   "metadata": {},
   "outputs": [],
   "source": [
    "trucks = trip_thu_ddf.loc[trip_thu_ddf['mode'] == 'COMMERCIAL']"
   ]
  },
  {
   "cell_type": "code",
   "execution_count": 31,
   "metadata": {},
   "outputs": [
    {
     "data": {
      "text/html": [
       "<div>\n",
       "<style scoped>\n",
       "    .dataframe tbody tr th:only-of-type {\n",
       "        vertical-align: middle;\n",
       "    }\n",
       "\n",
       "    .dataframe tbody tr th {\n",
       "        vertical-align: top;\n",
       "    }\n",
       "\n",
       "    .dataframe thead th {\n",
       "        text-align: right;\n",
       "    }\n",
       "</style>\n",
       "<table border=\"1\" class=\"dataframe\">\n",
       "  <thead>\n",
       "    <tr style=\"text-align: right;\">\n",
       "      <th></th>\n",
       "      <th>activity_id</th>\n",
       "      <th>person_id</th>\n",
       "      <th>mode</th>\n",
       "      <th>travel_purpose</th>\n",
       "      <th>previous_activity_type</th>\n",
       "      <th>start_time</th>\n",
       "      <th>end_time</th>\n",
       "      <th>distance_miles</th>\n",
       "      <th>vehicle_type</th>\n",
       "      <th>origin_bgrp</th>\n",
       "      <th>...</th>\n",
       "      <th>origin_building_use_l1</th>\n",
       "      <th>origin_building_use_l2</th>\n",
       "      <th>destination_land_use_l1</th>\n",
       "      <th>destination_land_use_l2</th>\n",
       "      <th>destination_building_use_l1</th>\n",
       "      <th>destination_building_use_l2</th>\n",
       "      <th>origin_lat</th>\n",
       "      <th>origin_lng</th>\n",
       "      <th>destination_lat</th>\n",
       "      <th>destination_lng</th>\n",
       "    </tr>\n",
       "  </thead>\n",
       "  <tbody>\n",
       "    <tr>\n",
       "      <th>0</th>\n",
       "      <td>13222013121352548534</td>\n",
       "      <td>742346565412155034</td>\n",
       "      <td>COMMERCIAL</td>\n",
       "      <td>COMMERCIAL</td>\n",
       "      <td>COMMERCIAL</td>\n",
       "      <td>0 days 15:40:41</td>\n",
       "      <td>0 days 16:04:17</td>\n",
       "      <td>14.393738</td>\n",
       "      <td>MEDIUM_COMMERCIAL</td>\n",
       "      <td>530630132023</td>\n",
       "      <td>...</td>\n",
       "      <td>nan</td>\n",
       "      <td>nan</td>\n",
       "      <td>nan</td>\n",
       "      <td>nan</td>\n",
       "      <td>nan</td>\n",
       "      <td>nan</td>\n",
       "      <td>47.65845</td>\n",
       "      <td>-117.06962</td>\n",
       "      <td>47.61218</td>\n",
       "      <td>-117.23991</td>\n",
       "    </tr>\n",
       "    <tr>\n",
       "      <th>1</th>\n",
       "      <td>14464857373953879015</td>\n",
       "      <td>1131805974781405462</td>\n",
       "      <td>COMMERCIAL</td>\n",
       "      <td>COMMERCIAL</td>\n",
       "      <td>COMMERCIAL</td>\n",
       "      <td>0 days 14:32:58</td>\n",
       "      <td>0 days 14:36:41</td>\n",
       "      <td>1.588356</td>\n",
       "      <td>MEDIUM_COMMERCIAL</td>\n",
       "      <td>160439702001</td>\n",
       "      <td>...</td>\n",
       "      <td>nan</td>\n",
       "      <td>nan</td>\n",
       "      <td>nan</td>\n",
       "      <td>nan</td>\n",
       "      <td>nan</td>\n",
       "      <td>nan</td>\n",
       "      <td>44.07032</td>\n",
       "      <td>-111.41578</td>\n",
       "      <td>44.07426</td>\n",
       "      <td>-111.44187</td>\n",
       "    </tr>\n",
       "    <tr>\n",
       "      <th>2</th>\n",
       "      <td>3966168606325826669</td>\n",
       "      <td>13559326651888885763</td>\n",
       "      <td>COMMERCIAL</td>\n",
       "      <td>COMMERCIAL</td>\n",
       "      <td>COMMERCIAL</td>\n",
       "      <td>0 days 10:03:19</td>\n",
       "      <td>0 days 10:06:30</td>\n",
       "      <td>0.529648</td>\n",
       "      <td>MEDIUM_COMMERCIAL</td>\n",
       "      <td>530350921001</td>\n",
       "      <td>...</td>\n",
       "      <td>nan</td>\n",
       "      <td>nan</td>\n",
       "      <td>nan</td>\n",
       "      <td>nan</td>\n",
       "      <td>nan</td>\n",
       "      <td>nan</td>\n",
       "      <td>47.50375</td>\n",
       "      <td>-122.68775</td>\n",
       "      <td>47.50282</td>\n",
       "      <td>-122.67951</td>\n",
       "    </tr>\n",
       "    <tr>\n",
       "      <th>3</th>\n",
       "      <td>12375184329754153291</td>\n",
       "      <td>15084998859716916562</td>\n",
       "      <td>COMMERCIAL</td>\n",
       "      <td>COMMERCIAL</td>\n",
       "      <td>COMMERCIAL</td>\n",
       "      <td>0 days 17:58:18</td>\n",
       "      <td>0 days 18:33:05</td>\n",
       "      <td>39.021394</td>\n",
       "      <td>MEDIUM_COMMERCIAL</td>\n",
       "      <td>160399602001</td>\n",
       "      <td>...</td>\n",
       "      <td>nan</td>\n",
       "      <td>nan</td>\n",
       "      <td>nan</td>\n",
       "      <td>nan</td>\n",
       "      <td>nan</td>\n",
       "      <td>nan</td>\n",
       "      <td>43.14157</td>\n",
       "      <td>-115.66474</td>\n",
       "      <td>43.54904</td>\n",
       "      <td>-116.15638</td>\n",
       "    </tr>\n",
       "    <tr>\n",
       "      <th>4</th>\n",
       "      <td>11314222112736317103</td>\n",
       "      <td>7254577039155896706</td>\n",
       "      <td>COMMERCIAL</td>\n",
       "      <td>COMMERCIAL</td>\n",
       "      <td>COMMERCIAL</td>\n",
       "      <td>0 days 07:41:59</td>\n",
       "      <td>0 days 08:17:52</td>\n",
       "      <td>25.556345</td>\n",
       "      <td>MEDIUM_COMMERCIAL</td>\n",
       "      <td>530110402021</td>\n",
       "      <td>...</td>\n",
       "      <td>nan</td>\n",
       "      <td>nan</td>\n",
       "      <td>nan</td>\n",
       "      <td>nan</td>\n",
       "      <td>nan</td>\n",
       "      <td>nan</td>\n",
       "      <td>45.89144</td>\n",
       "      <td>-122.51884</td>\n",
       "      <td>45.56358</td>\n",
       "      <td>-122.54219</td>\n",
       "    </tr>\n",
       "  </tbody>\n",
       "</table>\n",
       "<p>5 rows × 27 columns</p>\n",
       "</div>"
      ],
      "text/plain": [
       "            activity_id             person_id        mode travel_purpose  \\\n",
       "0  13222013121352548534    742346565412155034  COMMERCIAL     COMMERCIAL   \n",
       "1  14464857373953879015   1131805974781405462  COMMERCIAL     COMMERCIAL   \n",
       "2   3966168606325826669  13559326651888885763  COMMERCIAL     COMMERCIAL   \n",
       "3  12375184329754153291  15084998859716916562  COMMERCIAL     COMMERCIAL   \n",
       "4  11314222112736317103   7254577039155896706  COMMERCIAL     COMMERCIAL   \n",
       "\n",
       "  previous_activity_type      start_time        end_time  distance_miles  \\\n",
       "0             COMMERCIAL 0 days 15:40:41 0 days 16:04:17       14.393738   \n",
       "1             COMMERCIAL 0 days 14:32:58 0 days 14:36:41        1.588356   \n",
       "2             COMMERCIAL 0 days 10:03:19 0 days 10:06:30        0.529648   \n",
       "3             COMMERCIAL 0 days 17:58:18 0 days 18:33:05       39.021394   \n",
       "4             COMMERCIAL 0 days 07:41:59 0 days 08:17:52       25.556345   \n",
       "\n",
       "        vehicle_type   origin_bgrp  ...  origin_building_use_l1  \\\n",
       "0  MEDIUM_COMMERCIAL  530630132023  ...                     nan   \n",
       "1  MEDIUM_COMMERCIAL  160439702001  ...                     nan   \n",
       "2  MEDIUM_COMMERCIAL  530350921001  ...                     nan   \n",
       "3  MEDIUM_COMMERCIAL  160399602001  ...                     nan   \n",
       "4  MEDIUM_COMMERCIAL  530110402021  ...                     nan   \n",
       "\n",
       "   origin_building_use_l2 destination_land_use_l1  destination_land_use_l2  \\\n",
       "0                     nan                     nan                      nan   \n",
       "1                     nan                     nan                      nan   \n",
       "2                     nan                     nan                      nan   \n",
       "3                     nan                     nan                      nan   \n",
       "4                     nan                     nan                      nan   \n",
       "\n",
       "   destination_building_use_l1 destination_building_use_l2 origin_lat  \\\n",
       "0                          nan                         nan   47.65845   \n",
       "1                          nan                         nan   44.07032   \n",
       "2                          nan                         nan   47.50375   \n",
       "3                          nan                         nan   43.14157   \n",
       "4                          nan                         nan   45.89144   \n",
       "\n",
       "  origin_lng destination_lat destination_lng  \n",
       "0 -117.06962        47.61218      -117.23991  \n",
       "1 -111.41578        44.07426      -111.44187  \n",
       "2 -122.68775        47.50282      -122.67951  \n",
       "3 -115.66474        43.54904      -116.15638  \n",
       "4 -122.51884        45.56358      -122.54219  \n",
       "\n",
       "[5 rows x 27 columns]"
      ]
     },
     "execution_count": 31,
     "metadata": {},
     "output_type": "execute_result"
    }
   ],
   "source": [
    "trucks.head()"
   ]
  },
  {
   "cell_type": "code",
   "execution_count": 33,
   "metadata": {},
   "outputs": [
    {
     "data": {
      "text/plain": [
       "2190600"
      ]
     },
     "execution_count": 33,
     "metadata": {},
     "output_type": "execute_result"
    }
   ],
   "source": [
    "trucks['person_id'].nunique().compute()"
   ]
  },
  {
   "cell_type": "code",
   "execution_count": 25,
   "metadata": {},
   "outputs": [
    {
     "data": {
      "text/plain": [
       "nan                  55409122\n",
       "MEDIUM_COMMERCIAL     1946802\n",
       "HEAVY_COMMERCIAL       243798\n",
       "Name: vehicle_type, dtype: int64"
      ]
     },
     "execution_count": 25,
     "metadata": {},
     "output_type": "execute_result"
    }
   ],
   "source": [
    "trip_thu_ddf = dd.read_parquet(datadir+'/northwest_2021_Q4_thursday_trip.parquet')\n",
    "trip_thu_ddf['vehicle_type'].value_counts().compute()"
   ]
  },
  {
   "cell_type": "code",
   "execution_count": 34,
   "metadata": {},
   "outputs": [
    {
     "data": {
      "text/plain": [
       "2190600"
      ]
     },
     "execution_count": 34,
     "metadata": {},
     "output_type": "execute_result"
    }
   ],
   "source": [
    "len(trucks)"
   ]
  },
  {
   "cell_type": "code",
   "execution_count": 35,
   "metadata": {},
   "outputs": [],
   "source": [
    "ubers = trip_thu_ddf.loc[trip_thu_ddf['mode'] == 'ON_DEMAND_AUTO']"
   ]
  },
  {
   "cell_type": "code",
   "execution_count": 36,
   "metadata": {},
   "outputs": [
    {
     "data": {
      "text/plain": [
       "990158709039785955      16\n",
       "9183962885016971228     15\n",
       "7236881691111520416     14\n",
       "17416661576243475932    11\n",
       "14826177188316444853    11\n",
       "                        ..\n",
       "16069901924244521885     1\n",
       "16069935096932885818     1\n",
       "16069955311810168656     1\n",
       "1607009112529347857      1\n",
       "9999937766891715451      1\n",
       "Name: person_id, Length: 310740, dtype: int64"
      ]
     },
     "execution_count": 36,
     "metadata": {},
     "output_type": "execute_result"
    }
   ],
   "source": [
    "ubers['person_id'].value_counts().compute()"
   ]
  },
  {
   "cell_type": "code",
   "execution_count": null,
   "metadata": {},
   "outputs": [],
   "source": []
  }
 ],
 "metadata": {
  "kernelspec": {
   "display_name": "py311",
   "language": "python",
   "name": "python3"
  },
  "language_info": {
   "codemirror_mode": {
    "name": "ipython",
    "version": 3
   },
   "file_extension": ".py",
   "mimetype": "text/x-python",
   "name": "python",
   "nbconvert_exporter": "python",
   "pygments_lexer": "ipython3",
   "version": "3.11.1"
  },
  "orig_nbformat": 4
 },
 "nbformat": 4,
 "nbformat_minor": 2
}
