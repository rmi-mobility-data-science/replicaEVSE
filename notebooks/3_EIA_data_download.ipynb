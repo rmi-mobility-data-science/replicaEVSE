{
 "cells": [
  {
   "cell_type": "code",
   "execution_count": 1,
   "id": "5a3efd47-6676-4645-8348-7693dd57ef50",
   "metadata": {},
   "outputs": [],
   "source": [
    "import pandas as pd\n",
    "import numpy as np\n",
    "import geopandas as gpd\n",
    "import requests"
   ]
  },
  {
   "cell_type": "markdown",
   "id": "2490d464",
   "metadata": {},
   "source": [
    "need to register to get an API key. Get one at https://api.eia.gov:443"
   ]
  },
  {
   "cell_type": "code",
   "execution_count": 2,
   "id": "0dea7c5a-1661-444a-93e6-7ca3fa440078",
   "metadata": {},
   "outputs": [],
   "source": [
    "with open('../data/EIA_API_key.txt') as f:\n",
    "    api_key = f.readlines()\n",
    "api_key = api_key[0]"
   ]
  },
  {
   "cell_type": "markdown",
   "id": "90869cf2",
   "metadata": {},
   "source": [
    "This will return the \"Demand for United States Lower 48 (region), hourly - local time\". The api has changes since john ran this but this is the ~same time as the RFV replica data - 2021:Q2  "
   ]
  },
  {
   "cell_type": "code",
   "execution_count": 49,
   "id": "abd653b5-4987-4f94-829a-c70481ba538a",
   "metadata": {},
   "outputs": [],
   "source": [
    "url = 'http://api.eia.gov/category/?api_key='+api_key+'&category_id=3389935' # old API url. New API url is below\n",
    "url = 'https://api.eia.gov/v2/electricity/rto/region-data/data/?frequency=local-hourly&data[0]=value&facets[respondent][]=US48&facets[type][]=D&start=2021-04-01T00:00:00-06:00&end=2021-06-15T00:00:00-06:00&sort[0][column]=period&sort[0][direction]=desc&offset=0&length=5000&api_key='+api_key\n",
    "data = requests.get(url)\n",
    "data_json = data.json()\n",
    "df = pd.DataFrame(data_json['response']['data'])"
   ]
  },
  {
   "cell_type": "code",
   "execution_count": 58,
   "id": "1b298730",
   "metadata": {},
   "outputs": [
    {
     "data": {
      "text/html": [
       "<div>\n",
       "<style scoped>\n",
       "    .dataframe tbody tr th:only-of-type {\n",
       "        vertical-align: middle;\n",
       "    }\n",
       "\n",
       "    .dataframe tbody tr th {\n",
       "        vertical-align: top;\n",
       "    }\n",
       "\n",
       "    .dataframe thead th {\n",
       "        text-align: right;\n",
       "    }\n",
       "</style>\n",
       "<table border=\"1\" class=\"dataframe\">\n",
       "  <thead>\n",
       "    <tr style=\"text-align: right;\">\n",
       "      <th></th>\n",
       "      <th>period</th>\n",
       "      <th>respondent</th>\n",
       "      <th>respondent-name</th>\n",
       "      <th>type</th>\n",
       "      <th>type-name</th>\n",
       "      <th>value</th>\n",
       "      <th>value-units</th>\n",
       "      <th>Local time</th>\n",
       "    </tr>\n",
       "  </thead>\n",
       "  <tbody>\n",
       "    <tr>\n",
       "      <th>0</th>\n",
       "      <td>2021-06-14T20-04</td>\n",
       "      <td>US48</td>\n",
       "      <td>United States Lower 48</td>\n",
       "      <td>D</td>\n",
       "      <td>Demand</td>\n",
       "      <td>625499</td>\n",
       "      <td>megawatthours</td>\n",
       "      <td>2021-06-14 20:00:00-04:00</td>\n",
       "    </tr>\n",
       "    <tr>\n",
       "      <th>1</th>\n",
       "      <td>2021-06-14T19-04</td>\n",
       "      <td>US48</td>\n",
       "      <td>United States Lower 48</td>\n",
       "      <td>D</td>\n",
       "      <td>Demand</td>\n",
       "      <td>636092</td>\n",
       "      <td>megawatthours</td>\n",
       "      <td>2021-06-14 19:00:00-04:00</td>\n",
       "    </tr>\n",
       "    <tr>\n",
       "      <th>2</th>\n",
       "      <td>2021-06-14T18-04</td>\n",
       "      <td>US48</td>\n",
       "      <td>United States Lower 48</td>\n",
       "      <td>D</td>\n",
       "      <td>Demand</td>\n",
       "      <td>640117</td>\n",
       "      <td>megawatthours</td>\n",
       "      <td>2021-06-14 18:00:00-04:00</td>\n",
       "    </tr>\n",
       "    <tr>\n",
       "      <th>3</th>\n",
       "      <td>2021-06-14T17-04</td>\n",
       "      <td>US48</td>\n",
       "      <td>United States Lower 48</td>\n",
       "      <td>D</td>\n",
       "      <td>Demand</td>\n",
       "      <td>634923</td>\n",
       "      <td>megawatthours</td>\n",
       "      <td>2021-06-14 17:00:00-04:00</td>\n",
       "    </tr>\n",
       "    <tr>\n",
       "      <th>4</th>\n",
       "      <td>2021-06-14T16-04</td>\n",
       "      <td>US48</td>\n",
       "      <td>United States Lower 48</td>\n",
       "      <td>D</td>\n",
       "      <td>Demand</td>\n",
       "      <td>625304</td>\n",
       "      <td>megawatthours</td>\n",
       "      <td>2021-06-14 16:00:00-04:00</td>\n",
       "    </tr>\n",
       "  </tbody>\n",
       "</table>\n",
       "</div>"
      ],
      "text/plain": [
       "             period respondent         respondent-name type type-name   value  \\\n",
       "0  2021-06-14T20-04       US48  United States Lower 48    D    Demand  625499   \n",
       "1  2021-06-14T19-04       US48  United States Lower 48    D    Demand  636092   \n",
       "2  2021-06-14T18-04       US48  United States Lower 48    D    Demand  640117   \n",
       "3  2021-06-14T17-04       US48  United States Lower 48    D    Demand  634923   \n",
       "4  2021-06-14T16-04       US48  United States Lower 48    D    Demand  625304   \n",
       "\n",
       "     value-units                Local time  \n",
       "0  megawatthours 2021-06-14 20:00:00-04:00  \n",
       "1  megawatthours 2021-06-14 19:00:00-04:00  \n",
       "2  megawatthours 2021-06-14 18:00:00-04:00  \n",
       "3  megawatthours 2021-06-14 17:00:00-04:00  \n",
       "4  megawatthours 2021-06-14 16:00:00-04:00  "
      ]
     },
     "execution_count": 58,
     "metadata": {},
     "output_type": "execute_result"
    }
   ],
   "source": [
    "df['Local time'] = pd.to_datetime(df['period'])\n",
    "df.head()"
   ]
  },
  {
   "cell_type": "code",
   "execution_count": 72,
   "id": "2a21806d",
   "metadata": {},
   "outputs": [
    {
     "data": {
      "text/plain": [
       "<AxesSubplot:>"
      ]
     },
     "execution_count": 72,
     "metadata": {},
     "output_type": "execute_result"
    },
    {
     "data": {
      "image/png": "[encoded data removed]",
      "text/plain": [
       "<Figure size 640x480 with 1 Axes>"
      ]
     },
     "metadata": {},
     "output_type": "display_data"
    }
   ],
   "source": [
    "df.period.apply(lambda x: x[-2:]).hist()"
   ]
  },
  {
   "cell_type": "code",
   "execution_count": 75,
   "id": "b4ed8528-d8c9-45f5-acf7-64cfb67c61e6",
   "metadata": {},
   "outputs": [
    {
     "data": {
      "text/plain": [
       "0       20\n",
       "1       19\n",
       "2       18\n",
       "3       17\n",
       "4       16\n",
       "        ..\n",
       "1796     0\n",
       "1797    23\n",
       "1798    22\n",
       "1799    21\n",
       "1800    20\n",
       "Name: Hour, Length: 1801, dtype: int64"
      ]
     },
     "execution_count": 75,
     "metadata": {},
     "output_type": "execute_result"
    }
   ],
   "source": [
    "df['Hour'] = df['Local time'].dt.hour"
   ]
  },
  {
   "cell_type": "code",
   "execution_count": 76,
   "id": "8ca62b3f-0bdb-4a12-86c6-e39dac5a2a26",
   "metadata": {},
   "outputs": [],
   "source": [
    "weekday_dict = {0:'monday',\n",
    "               1:'tuesday',\n",
    "               2:'wednesday',\n",
    "               3:'thursday',\n",
    "               4:'friday',\n",
    "               5:'saturday',\n",
    "               6:'sunday'}"
   ]
  },
  {
   "cell_type": "code",
   "execution_count": 77,
   "id": "8bfb6d42-c133-48b2-9db7-8d7cd8cd9003",
   "metadata": {},
   "outputs": [],
   "source": [
    "df['Weekday'] = df['Local time'].dt.weekday.apply(lambda x: weekday_dict[x])"
   ]
  },
  {
   "cell_type": "code",
   "execution_count": 84,
   "id": "77a33e70-cdcf-4534-9d11-210a759361fb",
   "metadata": {},
   "outputs": [],
   "source": [
    "df_agg = df[['Weekday','Hour','value']].groupby(by=['Weekday','Hour']).mean().reset_index()\n",
    "df_agg['D'] = df_agg['value']"
   ]
  },
  {
   "cell_type": "code",
   "execution_count": 85,
   "id": "5dbcbe61-fd40-48cb-8368-0e3f4e155951",
   "metadata": {},
   "outputs": [
    {
     "data": {
      "text/html": [
       "<div>\n",
       "<style scoped>\n",
       "    .dataframe tbody tr th:only-of-type {\n",
       "        vertical-align: middle;\n",
       "    }\n",
       "\n",
       "    .dataframe tbody tr th {\n",
       "        vertical-align: top;\n",
       "    }\n",
       "\n",
       "    .dataframe thead th {\n",
       "        text-align: right;\n",
       "    }\n",
       "</style>\n",
       "<table border=\"1\" class=\"dataframe\">\n",
       "  <thead>\n",
       "    <tr style=\"text-align: right;\">\n",
       "      <th></th>\n",
       "      <th>Weekday</th>\n",
       "      <th>Hour</th>\n",
       "      <th>value</th>\n",
       "      <th>D</th>\n",
       "    </tr>\n",
       "  </thead>\n",
       "  <tbody>\n",
       "    <tr>\n",
       "      <th>0</th>\n",
       "      <td>friday</td>\n",
       "      <td>0</td>\n",
       "      <td>430997.272727</td>\n",
       "      <td>430997.272727</td>\n",
       "    </tr>\n",
       "    <tr>\n",
       "      <th>1</th>\n",
       "      <td>friday</td>\n",
       "      <td>1</td>\n",
       "      <td>406921.545455</td>\n",
       "      <td>406921.545455</td>\n",
       "    </tr>\n",
       "    <tr>\n",
       "      <th>2</th>\n",
       "      <td>friday</td>\n",
       "      <td>2</td>\n",
       "      <td>387018.727273</td>\n",
       "      <td>387018.727273</td>\n",
       "    </tr>\n",
       "    <tr>\n",
       "      <th>3</th>\n",
       "      <td>friday</td>\n",
       "      <td>3</td>\n",
       "      <td>372592.090909</td>\n",
       "      <td>372592.090909</td>\n",
       "    </tr>\n",
       "    <tr>\n",
       "      <th>4</th>\n",
       "      <td>friday</td>\n",
       "      <td>4</td>\n",
       "      <td>363799.181818</td>\n",
       "      <td>363799.181818</td>\n",
       "    </tr>\n",
       "    <tr>\n",
       "      <th>...</th>\n",
       "      <td>...</td>\n",
       "      <td>...</td>\n",
       "      <td>...</td>\n",
       "      <td>...</td>\n",
       "    </tr>\n",
       "    <tr>\n",
       "      <th>163</th>\n",
       "      <td>wednesday</td>\n",
       "      <td>19</td>\n",
       "      <td>496234.200000</td>\n",
       "      <td>496234.200000</td>\n",
       "    </tr>\n",
       "    <tr>\n",
       "      <th>164</th>\n",
       "      <td>wednesday</td>\n",
       "      <td>20</td>\n",
       "      <td>486339.181818</td>\n",
       "      <td>486339.181818</td>\n",
       "    </tr>\n",
       "    <tr>\n",
       "      <th>165</th>\n",
       "      <td>wednesday</td>\n",
       "      <td>21</td>\n",
       "      <td>482991.181818</td>\n",
       "      <td>482991.181818</td>\n",
       "    </tr>\n",
       "    <tr>\n",
       "      <th>166</th>\n",
       "      <td>wednesday</td>\n",
       "      <td>22</td>\n",
       "      <td>475050.909091</td>\n",
       "      <td>475050.909091</td>\n",
       "    </tr>\n",
       "    <tr>\n",
       "      <th>167</th>\n",
       "      <td>wednesday</td>\n",
       "      <td>23</td>\n",
       "      <td>455708.454545</td>\n",
       "      <td>455708.454545</td>\n",
       "    </tr>\n",
       "  </tbody>\n",
       "</table>\n",
       "<p>168 rows × 4 columns</p>\n",
       "</div>"
      ],
      "text/plain": [
       "       Weekday  Hour          value              D\n",
       "0       friday     0  430997.272727  430997.272727\n",
       "1       friday     1  406921.545455  406921.545455\n",
       "2       friday     2  387018.727273  387018.727273\n",
       "3       friday     3  372592.090909  372592.090909\n",
       "4       friday     4  363799.181818  363799.181818\n",
       "..         ...   ...            ...            ...\n",
       "163  wednesday    19  496234.200000  496234.200000\n",
       "164  wednesday    20  486339.181818  486339.181818\n",
       "165  wednesday    21  482991.181818  482991.181818\n",
       "166  wednesday    22  475050.909091  475050.909091\n",
       "167  wednesday    23  455708.454545  455708.454545\n",
       "\n",
       "[168 rows x 4 columns]"
      ]
     },
     "execution_count": 85,
     "metadata": {},
     "output_type": "execute_result"
    }
   ],
   "source": [
    "df_agg"
   ]
  },
  {
   "cell_type": "code",
   "execution_count": 86,
   "id": "153b4cfe-a99a-4840-99b4-9ee2db01220c",
   "metadata": {},
   "outputs": [
    {
     "data": {
      "application/vnd.plotly.v1+json": {
       "config": {
        "plotlyServerURL": "https://plot.ly"
       },
       "data": [
        {
         "hovertemplate": "Weekday=friday<br>Hour=%{x}<br>D=%{y}<extra></extra>",
         "legendgroup": "friday",
         "line": {
          "color": "#636efa",
          "dash": "solid"
         },
         "marker": {
          "symbol": "circle"
         },
         "mode": "lines",
         "name": "friday",
         "orientation": "v",
         "showlegend": true,
         "type": "scatter",
         "x": [
          0,
          1,
          2,
          3,
          4,
          5,
          6,
          7,
          8,
          9,
          10,
          11,
          12,
          13,
          14,
          15,
          16,
          17,
          18,
          19,
          20,
          21,
          22,
          23
         ],
         "xaxis": "x",
         "y": [
          430997.2727272727,
          406921.54545454547,
          387018.7272727273,
          372592.0909090909,
          363799.1818181818,
          361516.36363636365,
          367591.63636363635,
          383653.8181818182,
          402940.7272727273,
          418402.1818181818,
          430878.8181818182,
          441553.45454545453,
          450187.36363636365,
          456758.36363636365,
          462291.45454545453,
          467182.36363636365,
          470601.45454545453,
          473856.36363636365,
          476264,
          473662.9090909091,
          468448.63636363635,
          464366.7272727273,
          457381.63636363635,
          440645.36363636365
         ],
         "yaxis": "y"
        },
        {
         "hovertemplate": "Weekday=monday<br>Hour=%{x}<br>D=%{y}<extra></extra>",
         "legendgroup": "monday",
         "line": {
          "color": "#EF553B",
          "dash": "solid"
         },
         "marker": {
          "symbol": "circle"
         },
         "mode": "lines",
         "name": "monday",
         "orientation": "v",
         "showlegend": true,
         "type": "scatter",
         "x": [
          0,
          1,
          2,
          3,
          4,
          5,
          6,
          7,
          8,
          9,
          10,
          11,
          12,
          13,
          14,
          15,
          16,
          17,
          18,
          19,
          20,
          21,
          22,
          23
         ],
         "xaxis": "x",
         "y": [
          413029.8181818182,
          390134.54545454547,
          371283.1818181818,
          357748.7272727273,
          350034.36363636365,
          348792.9090909091,
          355999.54545454547,
          372979.2727272727,
          393690.63636363635,
          410854.0909090909,
          425672.9090909091,
          439238.63636363635,
          451603.0909090909,
          461631.63636363635,
          470358.36363636365,
          477762.2727272727,
          483781.1818181818,
          489419.54545454547,
          494201.54545454547,
          494762.63636363635,
          491080.45454545453,
          474830.5,
          467354.9,
          447620.6
         ],
         "yaxis": "y"
        },
        {
         "hovertemplate": "Weekday=saturday<br>Hour=%{x}<br>D=%{y}<extra></extra>",
         "legendgroup": "saturday",
         "line": {
          "color": "#00cc96",
          "dash": "solid"
         },
         "marker": {
          "symbol": "circle"
         },
         "mode": "lines",
         "name": "saturday",
         "orientation": "v",
         "showlegend": true,
         "type": "scatter",
         "x": [
          0,
          1,
          2,
          3,
          4,
          5,
          6,
          7,
          8,
          9,
          10,
          11,
          12,
          13,
          14,
          15,
          16,
          17,
          18,
          19,
          20,
          21,
          22,
          23
         ],
         "xaxis": "x",
         "y": [
          420741.36363636365,
          399117.36363636365,
          379777.2727272727,
          365514.63636363635,
          355997.8181818182,
          350781.36363636365,
          350766.2727272727,
          354896.2727272727,
          363361.8181818182,
          376944.36363636365,
          391026.36363636365,
          404286.2727272727,
          415310.45454545453,
          423278.45454545453,
          429319.8181818182,
          433813.8181818182,
          438587.9090909091,
          443812.54545454547,
          448873.0909090909,
          451041.2727272727,
          449420.36363636365,
          447060.36363636365,
          442293.7272727273,
          427797.0909090909
         ],
         "yaxis": "y"
        },
        {
         "hovertemplate": "Weekday=sunday<br>Hour=%{x}<br>D=%{y}<extra></extra>",
         "legendgroup": "sunday",
         "line": {
          "color": "#ab63fa",
          "dash": "solid"
         },
         "marker": {
          "symbol": "circle"
         },
         "mode": "lines",
         "name": "sunday",
         "orientation": "v",
         "showlegend": true,
         "type": "scatter",
         "x": [
          0,
          1,
          2,
          3,
          4,
          5,
          6,
          7,
          8,
          9,
          10,
          11,
          12,
          13,
          14,
          15,
          16,
          17,
          18,
          19,
          20,
          21,
          22,
          23
         ],
         "xaxis": "x",
         "y": [
          410052.1818181818,
          388407,
          370352.8181818182,
          356648.1818181818,
          346987.36363636365,
          341263.1818181818,
          339747.1818181818,
          341259.0909090909,
          347620.36363636365,
          361334.1818181818,
          377215.63636363635,
          391267.7272727273,
          403890.45454545453,
          414909,
          423721.1818181818,
          430859,
          437851.54545454547,
          445515,
          452842.8181818182,
          457185.8181818182,
          457087.8181818182,
          456445.7272727273,
          451321.45454545453,
          435189.36363636365
         ],
         "yaxis": "y"
        },
        {
         "hovertemplate": "Weekday=thursday<br>Hour=%{x}<br>D=%{y}<extra></extra>",
         "legendgroup": "thursday",
         "line": {
          "color": "#FFA15A",
          "dash": "solid"
         },
         "marker": {
          "symbol": "circle"
         },
         "mode": "lines",
         "name": "thursday",
         "orientation": "v",
         "showlegend": true,
         "type": "scatter",
         "x": [
          0,
          1,
          2,
          3,
          4,
          5,
          6,
          7,
          8,
          9,
          10,
          11,
          12,
          13,
          14,
          15,
          16,
          17,
          18,
          19,
          20,
          21,
          22,
          23
         ],
         "xaxis": "x",
         "y": [
          430757.8181818182,
          405768.63636363635,
          385636.0909090909,
          371042.63636363635,
          362503,
          360358.0909090909,
          367200.9090909091,
          384924.1818181818,
          405916.7272727273,
          422311.45454545453,
          434926.2727272727,
          445934,
          455142.7272727273,
          462619.8181818182,
          469098.54545454547,
          474366.63636363635,
          478656.54545454547,
          483189.7272727273,
          486553.7272727273,
          485646.7272727273,
          482609.7272727273,
          480234.1818181818,
          473152.45454545453,
          454881.36363636365
         ],
         "yaxis": "y"
        },
        {
         "hovertemplate": "Weekday=tuesday<br>Hour=%{x}<br>D=%{y}<extra></extra>",
         "legendgroup": "tuesday",
         "line": {
          "color": "#19d3f3",
          "dash": "solid"
         },
         "marker": {
          "symbol": "circle"
         },
         "mode": "lines",
         "name": "tuesday",
         "orientation": "v",
         "showlegend": true,
         "type": "scatter",
         "x": [
          0,
          1,
          2,
          3,
          4,
          5,
          6,
          7,
          8,
          9,
          10,
          11,
          12,
          13,
          14,
          15,
          16,
          17,
          18,
          19,
          20,
          21,
          22,
          23
         ],
         "xaxis": "x",
         "y": [
          422625.5,
          398439.6,
          378201.3,
          362699.8,
          354207.1,
          353140.6,
          360149.2,
          378225.6,
          399179.9,
          415761.1,
          428454.9,
          440100.4,
          450581.3,
          459752.3,
          468114.6,
          474909.8,
          480856.1,
          485926.7,
          488918.9,
          489505.5,
          485387.1,
          482234.1,
          474891.2,
          453711.8
         ],
         "yaxis": "y"
        },
        {
         "hovertemplate": "Weekday=wednesday<br>Hour=%{x}<br>D=%{y}<extra></extra>",
         "legendgroup": "wednesday",
         "line": {
          "color": "#FF6692",
          "dash": "solid"
         },
         "marker": {
          "symbol": "circle"
         },
         "mode": "lines",
         "name": "wednesday",
         "orientation": "v",
         "showlegend": true,
         "type": "scatter",
         "x": [
          0,
          1,
          2,
          3,
          4,
          5,
          6,
          7,
          8,
          9,
          10,
          11,
          12,
          13,
          14,
          15,
          16,
          17,
          18,
          19,
          20,
          21,
          22,
          23
         ],
         "xaxis": "x",
         "y": [
          428607.5,
          403369.4,
          382647.7,
          367516.9,
          358312.6,
          355712.3,
          362026.4,
          378947.9,
          399683.6,
          417314.7,
          430734.2,
          443270.2,
          454653.7,
          464957.6,
          473969.6,
          481821.2,
          488010.9,
          493200.8,
          497299,
          496234.2,
          486339.1818181818,
          482991.1818181818,
          475050.9090909091,
          455708.45454545453
         ],
         "yaxis": "y"
        }
       ],
       "layout": {
        "legend": {
         "title": {
          "text": "Weekday"
         },
         "tracegroupgap": 0
        },
        "margin": {
         "t": 60
        },
        "template": {
         "data": {
          "bar": [
           {
            "error_x": {
             "color": "#2a3f5f"
            },
            "error_y": {
             "color": "#2a3f5f"
            },
            "marker": {
             "line": {
              "color": "#E5ECF6",
              "width": 0.5
             },
             "pattern": {
              "fillmode": "overlay",
              "size": 10,
              "solidity": 0.2
             }
            },
            "type": "bar"
           }
          ],
          "barpolar": [
           {
            "marker": {
             "line": {
              "color": "#E5ECF6",
              "width": 0.5
             },
             "pattern": {
              "fillmode": "overlay",
              "size": 10,
              "solidity": 0.2
             }
            },
            "type": "barpolar"
           }
          ],
          "carpet": [
           {
            "aaxis": {
             "endlinecolor": "#2a3f5f",
             "gridcolor": "white",
             "linecolor": "white",
             "minorgridcolor": "white",
             "startlinecolor": "#2a3f5f"
            },
            "baxis": {
             "endlinecolor": "#2a3f5f",
             "gridcolor": "white",
             "linecolor": "white",
             "minorgridcolor": "white",
             "startlinecolor": "#2a3f5f"
            },
            "type": "carpet"
           }
          ],
          "choropleth": [
           {
            "colorbar": {
             "outlinewidth": 0,
             "ticks": ""
            },
            "type": "choropleth"
           }
          ],
          "contour": [
           {
            "colorbar": {
             "outlinewidth": 0,
             "ticks": ""
            },
            "colorscale": [
             [
              0,
              "#0d0887"
             ],
             [
              0.1111111111111111,
              "#46039f"
             ],
             [
              0.2222222222222222,
              "#7201a8"
             ],
             [
              0.3333333333333333,
              "#9c179e"
             ],
             [
              0.4444444444444444,
              "#bd3786"
             ],
             [
              0.5555555555555556,
              "#d8576b"
             ],
             [
              0.6666666666666666,
              "#ed7953"
             ],
             [
              0.7777777777777778,
              "#fb9f3a"
             ],
             [
              0.8888888888888888,
              "#fdca26"
             ],
             [
              1,
              "#f0f921"
             ]
            ],
            "type": "contour"
           }
          ],
          "contourcarpet": [
           {
            "colorbar": {
             "outlinewidth": 0,
             "ticks": ""
            },
            "type": "contourcarpet"
           }
          ],
          "heatmap": [
           {
            "colorbar": {
             "outlinewidth": 0,
             "ticks": ""
            },
            "colorscale": [
             [
              0,
              "#0d0887"
             ],
             [
              0.1111111111111111,
              "#46039f"
             ],
             [
              0.2222222222222222,
              "#7201a8"
             ],
             [
              0.3333333333333333,
              "#9c179e"
             ],
             [
              0.4444444444444444,
              "#bd3786"
             ],
             [
              0.5555555555555556,
              "#d8576b"
             ],
             [
              0.6666666666666666,
              "#ed7953"
             ],
             [
              0.7777777777777778,
              "#fb9f3a"
             ],
             [
              0.8888888888888888,
              "#fdca26"
             ],
             [
              1,
              "#f0f921"
             ]
            ],
            "type": "heatmap"
           }
          ],
          "heatmapgl": [
           {
            "colorbar": {
             "outlinewidth": 0,
             "ticks": ""
            },
            "colorscale": [
             [
              0,
              "#0d0887"
             ],
             [
              0.1111111111111111,
              "#46039f"
             ],
             [
              0.2222222222222222,
              "#7201a8"
             ],
             [
              0.3333333333333333,
              "#9c179e"
             ],
             [
              0.4444444444444444,
              "#bd3786"
             ],
             [
              0.5555555555555556,
              "#d8576b"
             ],
             [
              0.6666666666666666,
              "#ed7953"
             ],
             [
              0.7777777777777778,
              "#fb9f3a"
             ],
             [
              0.8888888888888888,
              "#fdca26"
             ],
             [
              1,
              "#f0f921"
             ]
            ],
            "type": "heatmapgl"
           }
          ],
          "histogram": [
           {
            "marker": {
             "pattern": {
              "fillmode": "overlay",
              "size": 10,
              "solidity": 0.2
             }
            },
            "type": "histogram"
           }
          ],
          "histogram2d": [
           {
            "colorbar": {
             "outlinewidth": 0,
             "ticks": ""
            },
            "colorscale": [
             [
              0,
              "#0d0887"
             ],
             [
              0.1111111111111111,
              "#46039f"
             ],
             [
              0.2222222222222222,
              "#7201a8"
             ],
             [
              0.3333333333333333,
              "#9c179e"
             ],
             [
              0.4444444444444444,
              "#bd3786"
             ],
             [
              0.5555555555555556,
              "#d8576b"
             ],
             [
              0.6666666666666666,
              "#ed7953"
             ],
             [
              0.7777777777777778,
              "#fb9f3a"
             ],
             [
              0.8888888888888888,
              "#fdca26"
             ],
             [
              1,
              "#f0f921"
             ]
            ],
            "type": "histogram2d"
           }
          ],
          "histogram2dcontour": [
           {
            "colorbar": {
             "outlinewidth": 0,
             "ticks": ""
            },
            "colorscale": [
             [
              0,
              "#0d0887"
             ],
             [
              0.1111111111111111,
              "#46039f"
             ],
             [
              0.2222222222222222,
              "#7201a8"
             ],
             [
              0.3333333333333333,
              "#9c179e"
             ],
             [
              0.4444444444444444,
              "#bd3786"
             ],
             [
              0.5555555555555556,
              "#d8576b"
             ],
             [
              0.6666666666666666,
              "#ed7953"
             ],
             [
              0.7777777777777778,
              "#fb9f3a"
             ],
             [
              0.8888888888888888,
              "#fdca26"
             ],
             [
              1,
              "#f0f921"
             ]
            ],
            "type": "histogram2dcontour"
           }
          ],
          "mesh3d": [
           {
            "colorbar": {
             "outlinewidth": 0,
             "ticks": ""
            },
            "type": "mesh3d"
           }
          ],
          "parcoords": [
           {
            "line": {
             "colorbar": {
              "outlinewidth": 0,
              "ticks": ""
             }
            },
            "type": "parcoords"
           }
          ],
          "pie": [
           {
            "automargin": true,
            "type": "pie"
           }
          ],
          "scatter": [
           {
            "fillpattern": {
             "fillmode": "overlay",
             "size": 10,
             "solidity": 0.2
            },
            "type": "scatter"
           }
          ],
          "scatter3d": [
           {
            "line": {
             "colorbar": {
              "outlinewidth": 0,
              "ticks": ""
             }
            },
            "marker": {
             "colorbar": {
              "outlinewidth": 0,
              "ticks": ""
             }
            },
            "type": "scatter3d"
           }
          ],
          "scattercarpet": [
           {
            "marker": {
             "colorbar": {
              "outlinewidth": 0,
              "ticks": ""
             }
            },
            "type": "scattercarpet"
           }
          ],
          "scattergeo": [
           {
            "marker": {
             "colorbar": {
              "outlinewidth": 0,
              "ticks": ""
             }
            },
            "type": "scattergeo"
           }
          ],
          "scattergl": [
           {
            "marker": {
             "colorbar": {
              "outlinewidth": 0,
              "ticks": ""
             }
            },
            "type": "scattergl"
           }
          ],
          "scattermapbox": [
           {
            "marker": {
             "colorbar": {
              "outlinewidth": 0,
              "ticks": ""
             }
            },
            "type": "scattermapbox"
           }
          ],
          "scatterpolar": [
           {
            "marker": {
             "colorbar": {
              "outlinewidth": 0,
              "ticks": ""
             }
            },
            "type": "scatterpolar"
           }
          ],
          "scatterpolargl": [
           {
            "marker": {
             "colorbar": {
              "outlinewidth": 0,
              "ticks": ""
             }
            },
            "type": "scatterpolargl"
           }
          ],
          "scatterternary": [
           {
            "marker": {
             "colorbar": {
              "outlinewidth": 0,
              "ticks": ""
             }
            },
            "type": "scatterternary"
           }
          ],
          "surface": [
           {
            "colorbar": {
             "outlinewidth": 0,
             "ticks": ""
            },
            "colorscale": [
             [
              0,
              "#0d0887"
             ],
             [
              0.1111111111111111,
              "#46039f"
             ],
             [
              0.2222222222222222,
              "#7201a8"
             ],
             [
              0.3333333333333333,
              "#9c179e"
             ],
             [
              0.4444444444444444,
              "#bd3786"
             ],
             [
              0.5555555555555556,
              "#d8576b"
             ],
             [
              0.6666666666666666,
              "#ed7953"
             ],
             [
              0.7777777777777778,
              "#fb9f3a"
             ],
             [
              0.8888888888888888,
              "#fdca26"
             ],
             [
              1,
              "#f0f921"
             ]
            ],
            "type": "surface"
           }
          ],
          "table": [
           {
            "cells": {
             "fill": {
              "color": "#EBF0F8"
             },
             "line": {
              "color": "white"
             }
            },
            "header": {
             "fill": {
              "color": "#C8D4E3"
             },
             "line": {
              "color": "white"
             }
            },
            "type": "table"
           }
          ]
         },
         "layout": {
          "annotationdefaults": {
           "arrowcolor": "#2a3f5f",
           "arrowhead": 0,
           "arrowwidth": 1
          },
          "autotypenumbers": "strict",
          "coloraxis": {
           "colorbar": {
            "outlinewidth": 0,
            "ticks": ""
           }
          },
          "colorscale": {
           "diverging": [
            [
             0,
             "#8e0152"
            ],
            [
             0.1,
             "#c51b7d"
            ],
            [
             0.2,
             "#de77ae"
            ],
            [
             0.3,
             "#f1b6da"
            ],
            [
             0.4,
             "#fde0ef"
            ],
            [
             0.5,
             "#f7f7f7"
            ],
            [
             0.6,
             "#e6f5d0"
            ],
            [
             0.7,
             "#b8e186"
            ],
            [
             0.8,
             "#7fbc41"
            ],
            [
             0.9,
             "#4d9221"
            ],
            [
             1,
             "#276419"
            ]
           ],
           "sequential": [
            [
             0,
             "#0d0887"
            ],
            [
             0.1111111111111111,
             "#46039f"
            ],
            [
             0.2222222222222222,
             "#7201a8"
            ],
            [
             0.3333333333333333,
             "#9c179e"
            ],
            [
             0.4444444444444444,
             "#bd3786"
            ],
            [
             0.5555555555555556,
             "#d8576b"
            ],
            [
             0.6666666666666666,
             "#ed7953"
            ],
            [
             0.7777777777777778,
             "#fb9f3a"
            ],
            [
             0.8888888888888888,
             "#fdca26"
            ],
            [
             1,
             "#f0f921"
            ]
           ],
           "sequentialminus": [
            [
             0,
             "#0d0887"
            ],
            [
             0.1111111111111111,
             "#46039f"
            ],
            [
             0.2222222222222222,
             "#7201a8"
            ],
            [
             0.3333333333333333,
             "#9c179e"
            ],
            [
             0.4444444444444444,
             "#bd3786"
            ],
            [
             0.5555555555555556,
             "#d8576b"
            ],
            [
             0.6666666666666666,
             "#ed7953"
            ],
            [
             0.7777777777777778,
             "#fb9f3a"
            ],
            [
             0.8888888888888888,
             "#fdca26"
            ],
            [
             1,
             "#f0f921"
            ]
           ]
          },
          "colorway": [
           "#636efa",
           "#EF553B",
           "#00cc96",
           "#ab63fa",
           "#FFA15A",
           "#19d3f3",
           "#FF6692",
           "#B6E880",
           "#FF97FF",
           "#FECB52"
          ],
          "font": {
           "color": "#2a3f5f"
          },
          "geo": {
           "bgcolor": "white",
           "lakecolor": "white",
           "landcolor": "#E5ECF6",
           "showlakes": true,
           "showland": true,
           "subunitcolor": "white"
          },
          "hoverlabel": {
           "align": "left"
          },
          "hovermode": "closest",
          "mapbox": {
           "style": "light"
          },
          "paper_bgcolor": "white",
          "plot_bgcolor": "#E5ECF6",
          "polar": {
           "angularaxis": {
            "gridcolor": "white",
            "linecolor": "white",
            "ticks": ""
           },
           "bgcolor": "#E5ECF6",
           "radialaxis": {
            "gridcolor": "white",
            "linecolor": "white",
            "ticks": ""
           }
          },
          "scene": {
           "xaxis": {
            "backgroundcolor": "#E5ECF6",
            "gridcolor": "white",
            "gridwidth": 2,
            "linecolor": "white",
            "showbackground": true,
            "ticks": "",
            "zerolinecolor": "white"
           },
           "yaxis": {
            "backgroundcolor": "#E5ECF6",
            "gridcolor": "white",
            "gridwidth": 2,
            "linecolor": "white",
            "showbackground": true,
            "ticks": "",
            "zerolinecolor": "white"
           },
           "zaxis": {
            "backgroundcolor": "#E5ECF6",
            "gridcolor": "white",
            "gridwidth": 2,
            "linecolor": "white",
            "showbackground": true,
            "ticks": "",
            "zerolinecolor": "white"
           }
          },
          "shapedefaults": {
           "line": {
            "color": "#2a3f5f"
           }
          },
          "ternary": {
           "aaxis": {
            "gridcolor": "white",
            "linecolor": "white",
            "ticks": ""
           },
           "baxis": {
            "gridcolor": "white",
            "linecolor": "white",
            "ticks": ""
           },
           "bgcolor": "#E5ECF6",
           "caxis": {
            "gridcolor": "white",
            "linecolor": "white",
            "ticks": ""
           }
          },
          "title": {
           "x": 0.05
          },
          "xaxis": {
           "automargin": true,
           "gridcolor": "white",
           "linecolor": "white",
           "ticks": "",
           "title": {
            "standoff": 15
           },
           "zerolinecolor": "white",
           "zerolinewidth": 2
          },
          "yaxis": {
           "automargin": true,
           "gridcolor": "white",
           "linecolor": "white",
           "ticks": "",
           "title": {
            "standoff": 15
           },
           "zerolinecolor": "white",
           "zerolinewidth": 2
          }
         }
        },
        "xaxis": {
         "anchor": "y",
         "domain": [
          0,
          1
         ],
         "title": {
          "text": "Hour"
         }
        },
        "yaxis": {
         "anchor": "x",
         "domain": [
          0,
          1
         ],
         "title": {
          "text": "D"
         }
        }
       }
      }
     },
     "metadata": {},
     "output_type": "display_data"
    }
   ],
   "source": [
    "import plotly.express as px\n",
    "px.line(df_agg, x='Hour', y='D', color='Weekday')"
   ]
  },
  {
   "cell_type": "code",
   "execution_count": 87,
   "id": "2889e66d-2ff2-408a-96ea-1139ee0f66b9",
   "metadata": {},
   "outputs": [],
   "source": [
    "df_agg.to_csv('../data/EIA_demand_summary.csv')"
   ]
  },
  {
   "cell_type": "code",
   "execution_count": null,
   "id": "89b42d0c-2c95-471e-b221-c3b179a20906",
   "metadata": {},
   "outputs": [],
   "source": []
  }
 ],
 "metadata": {
  "kernelspec": {
   "display_name": "Python 3 (ipykernel)",
   "language": "python",
   "name": "python3"
  },
  "language_info": {
   "codemirror_mode": {
    "name": "ipython",
    "version": 3
   },
   "file_extension": ".py",
   "mimetype": "text/x-python",
   "name": "python",
   "nbconvert_exporter": "python",
   "pygments_lexer": "ipython3",
   "version": "3.11.3"
  }
 },
 "nbformat": 4,
 "nbformat_minor": 5
}
