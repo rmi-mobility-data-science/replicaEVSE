{
 "cells": [
  {
   "cell_type": "code",
   "execution_count": null,
   "metadata": {},
   "outputs": [],
   "source": [
    "import pandas as pd\n",
    "import numpy as np\n",
    "import replicaEVSE.load_curve as sim\n",
    "import os\n",
    "import joblib\n",
    "import dask.dataframe as dd\n",
    "\n",
    "%reload_ext autoreload\n",
    "%autoreload 2\n",
    "\n",
    "\n",
    "\n",
    "pd.set_option('display.max_columns', None)\n",
    "\n",
    "datadir = '../../data'\n",
    "mode = 'ON_DEMAND_AUTO'\n",
    "simulation_id = 'dev'\n",
    "test = True\n",
    "\n",
    "#Created in the EIA_data_download.ipynb notebook\n",
    "existing_load=pd.read_csv('../../data/EIA_demand_summary.csv') \n",
    "if test:\n",
    "    # df = pd.read_parquet(os.path.join(datadir, 'wa_pop_and_trips_subsample.parquet'))\n",
    "    df = dd.read_parquet(os.path.join(datadir, 'wa_pop_and_trips_sorted.parquet'))\n",
    "    # df = df.loc[df['mode'] == mode]\n",
    "    df = df.sample(frac=0.001, random_state=1)\n",
    "    # df = df.sort_values(by=['person_id', 'start_time']).reset_index(drop=True)\n",
    "    simulation_id = 'dev'\n",
    "\n",
    "else: \n",
    "\n",
    "\n",
    "    # read in the joined trips and population data sets\n",
    "    merged_df = pd.read_parquet(os.path.join(datadir, 'wa_pop_and_trips_sorted.parquet'))\n",
    "\n",
    "    # right now, only look at private auto trips\n",
    "    df = merged_df.loc[merged_df['mode'] == mode]\n",
    "\n"
   ]
  },
  {
   "attachments": {},
   "cell_type": "markdown",
   "metadata": {},
   "source": [
    "### get only the tnc trips"
   ]
  },
  {
   "cell_type": "code",
   "execution_count": null,
   "metadata": {},
   "outputs": [],
   "source": [
    "df = df.loc[df['mode'] == 'ON_DEMAND_AUTO']\n",
    "df = df.sort_values(by=['person_id', 'start_time']).reset_index(drop=True)\n",
    "df = df.compute()"
   ]
  },
  {
   "attachments": {},
   "cell_type": "markdown",
   "metadata": {},
   "source": [
    "Two ways to do this: \n",
    " 1. everyone charges when they are ~empty only. in this case they would take as many trips as they need and charge at either a L2 or DCFC charger for as long as they need to get back to full. \n",
    " Obviously not realistic. \n",
    "\n",
    " 2. Charge after x trips and then charge as long as needed to get back the energy lost in those x trips as long as dont exceed some threshold distance then stop and charge. Charging is drawn from a distribution of L2 and DCFC. "
   ]
  },
  {
   "cell_type": "code",
   "execution_count": null,
   "metadata": {},
   "outputs": [],
   "source": [
    "max_trip_distance = 100\n",
    "max_trips = 5\n",
    "tot_distance = 0\n",
    "trip_count = 0\n",
    "kwh_per_mi = 0.3\n",
    "which_charge_rate = sim.determine_charger_availability_tnc()\n",
    "charge = 0\n",
    "for row in len(df):\n",
    "    trip = df.iloc[row,]\n",
    "    tot_distance += trip['distance_miles']\n",
    "    if tot_distance > max_trip_distance:\n",
    "        # exceeded the distance limit\n",
    "        # start a new trip\n",
    "        trip_count = 0\n",
    "        tot_distance = 0\n",
    "\n",
    "    if trip_count > max_trips:\n",
    "        # we should charge\n",
    "        charge += tot_distance * kwh_per_mi # mi * kwh/mi \n",
    "        # add to load here\n",
    "        # calc time to load up to max distance\n",
    "        #  determine_charger_availability_tnc in kw/h\n",
    "    \n",
    "    # charge duration = charge_used / charge rate\n",
    "    charge_duration = charge * which_charge_rate\n",
    "\n",
    "    # this needs to get saved somewere. \n",
    "    charge_time = trip['end_time'] + pd.Timedelta(f\"{charge_duration} hour\")\n",
    "\n",
    "\n"
   ]
  },
  {
   "cell_type": "code",
   "execution_count": null,
   "metadata": {
    "vscode": {
     "languageId": "plaintext"
    }
   },
   "outputs": [],
   "source": [
    "# this is the instance where we see how many trips it took to get to \n",
    "tot_distance = 0\n",
    "for row in len(df)\n",
    "    trip = df.iloc[row,]\n",
    "    tot_distance += trip['distance_miles']\n",
    "    if tot_distance > 100:\n",
    "        tot_distance = 0"
   ]
  }
 ],
 "metadata": {
  "language_info": {
   "name": "python"
  },
  "orig_nbformat": 4
 },
 "nbformat": 4,
 "nbformat_minor": 2
}
