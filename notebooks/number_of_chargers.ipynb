{
 "cells": [
  {
   "cell_type": "code",
   "execution_count": 1,
   "metadata": {},
   "outputs": [],
   "source": [
    "import pandas as pd\n",
    "import numpy as np\n",
    "import replicaEVSE.load_curve as sim\n",
    "import replicaEVSE.datautils as simdu\n",
    "import matplotlib.pyplot as plt\n",
    "import os\n",
    "import joblib\n",
    "from tqdm import tqdm\n",
    "from glob import glob\n",
    "# import dask.dataframe as dd\n",
    "import pandas as dd\n",
    "import datetime as dt\n",
    "\n",
    "%matplotlib inline\n",
    "%config InlineBackend.figure_format = 'retina'\n",
    "%reload_ext autoreload\n",
    "%autoreload 2\n",
    "\n",
    "datadir = '../../data/'"
   ]
  },
  {
   "attachments": {},
   "cell_type": "markdown",
   "metadata": {},
   "source": [
    " 1) read in the loads and charges\n",
    " 2) compute the peak load\n",
    " 3) compute the fraction of charging events as a function of charger type"
   ]
  },
  {
   "cell_type": "code",
   "execution_count": 2,
   "metadata": {},
   "outputs": [],
   "source": [
    "seg_list = ['Personal Sedan',\n",
    " 'Personal Crossover',\n",
    " 'Personal Truck/SUV',\n",
    " 'Commercial Sedan',\n",
    " 'Commercial Crossover',\n",
    " 'Commercial Truck/SUV']"
   ]
  },
  {
   "attachments": {},
   "cell_type": "markdown",
   "metadata": {},
   "source": [
    "# read in the loads and charges"
   ]
  },
  {
   "cell_type": "code",
   "execution_count": 52,
   "metadata": {},
   "outputs": [],
   "source": [
    "charge_files = glob(datadir + 'loads_charges/charges_2*_2023-06-06.parquet')\n",
    "charges_list = []\n",
    "for cfile in charge_files:\n",
    "    charges = dd.read_parquet(cfile)\n",
    "    # make the files a bit smaller\n",
    "    charges[charges['charger_power_kW'] > 0]\n",
    "    charges_list.append(charges)\n",
    "charges = dd.concat(charges_list)\n",
    "\n",
    "loads_files = glob(datadir + 'loads_charges/loads_2*_2023-06-06.parquet')\n",
    "loads_list = []\n",
    "for lfile in loads_files:\n",
    "    loads = dd.read_parquet(lfile)\n",
    "    loads_list.append(loads)\n",
    "loads = dd.concat(loads_list)\n"
   ]
  },
  {
   "cell_type": "code",
   "execution_count": 53,
   "metadata": {},
   "outputs": [
    {
     "data": {
      "text/plain": [
       "(Index(['person_id', 'charge_id', 'charge_type', 'activity_id', 'simulation_id',\n",
       "        'charger_power_kW', 'charge_energy_used_kWh',\n",
       "        'charge_opportunity_remaining_kWh', 'weekday', 'year', 'segment',\n",
       "        'work_frac', 'multiunit_frac'],\n",
       "       dtype='object'),\n",
       " Index(['person_id', 'load_segment_id', 'charge_id', 'charge_type',\n",
       "        'window_start_time', 'window_end_time', 'load_kW', 'weekday', 'year',\n",
       "        'segment', 'work_frac', 'multiunit_frac'],\n",
       "       dtype='object'))"
      ]
     },
     "execution_count": 53,
     "metadata": {},
     "output_type": "execute_result"
    }
   ],
   "source": [
    "charges.columns, loads.columns"
   ]
  },
  {
   "cell_type": "code",
   "execution_count": 54,
   "metadata": {},
   "outputs": [],
   "source": [
    "reftime = ref_time=dt.datetime(2023, 1, 1, 0, 0)\n",
    "loads[\"hour\"] = (loads[\"window_end_time\"]+ref_time).dt.hour"
   ]
  },
  {
   "attachments": {},
   "cell_type": "markdown",
   "metadata": {},
   "source": [
    "### Join the load and charges tables"
   ]
  },
  {
   "cell_type": "code",
   "execution_count": 56,
   "metadata": {},
   "outputs": [],
   "source": [
    "loadsmall = loads[['charge_id', 'hour', 'load_kW']]\n",
    "loadsmall = loadsmall[loadsmall['load_kW'] > 0] # remove 0 loads\n",
    "all = loadsmall.merge(charges, on='charge_id', how='left')"
   ]
  },
  {
   "attachments": {},
   "cell_type": "markdown",
   "metadata": {},
   "source": [
    "### Find the max load per year and fraction of that load by charger type."
   ]
  },
  {
   "cell_type": "code",
   "execution_count": 58,
   "metadata": {},
   "outputs": [],
   "source": [
    "max_load = all.groupby(['year','hour',])['load_kW'].sum()"
   ]
  },
  {
   "attachments": {},
   "cell_type": "markdown",
   "metadata": {},
   "source": [
    "We can edit the granularity of our charging events."
   ]
  },
  {
   "cell_type": "code",
   "execution_count": 59,
   "metadata": {},
   "outputs": [],
   "source": [
    "df = all.copy()\n",
    "df['location'] = df.charge_type.copy()\n",
    "keep_values = ['single_family_home', 'multi_family_home', 'public']\n",
    "home_values = ['public', 'work']\n",
    "\n",
    "# Set values not in the keep list to 'work'\n",
    "df['location'] = df['location'].where(df['location'].isin(keep_values), 'work')"
   ]
  },
  {
   "cell_type": "code",
   "execution_count": 78,
   "metadata": {},
   "outputs": [
    {
     "data": {
      "text/html": [
       "<div>\n",
       "<style scoped>\n",
       "    .dataframe tbody tr th:only-of-type {\n",
       "        vertical-align: middle;\n",
       "    }\n",
       "\n",
       "    .dataframe tbody tr th {\n",
       "        vertical-align: top;\n",
       "    }\n",
       "\n",
       "    .dataframe thead th {\n",
       "        text-align: right;\n",
       "    }\n",
       "</style>\n",
       "<table border=\"1\" class=\"dataframe\">\n",
       "  <thead>\n",
       "    <tr style=\"text-align: right;\">\n",
       "      <th></th>\n",
       "      <th>year</th>\n",
       "      <th>location</th>\n",
       "      <th>load_kW</th>\n",
       "      <th>tot_load_kW</th>\n",
       "      <th>load_frac</th>\n",
       "    </tr>\n",
       "  </thead>\n",
       "  <tbody>\n",
       "    <tr>\n",
       "      <th>0</th>\n",
       "      <td>2023</td>\n",
       "      <td>multi_family_home</td>\n",
       "      <td>1.558815e+04</td>\n",
       "      <td>7.943673e+05</td>\n",
       "      <td>0.019623</td>\n",
       "    </tr>\n",
       "    <tr>\n",
       "      <th>1</th>\n",
       "      <td>2023</td>\n",
       "      <td>public</td>\n",
       "      <td>2.208862e+05</td>\n",
       "      <td>7.943673e+05</td>\n",
       "      <td>0.278066</td>\n",
       "    </tr>\n",
       "    <tr>\n",
       "      <th>2</th>\n",
       "      <td>2023</td>\n",
       "      <td>single_family_home</td>\n",
       "      <td>5.491770e+05</td>\n",
       "      <td>7.943673e+05</td>\n",
       "      <td>0.691339</td>\n",
       "    </tr>\n",
       "    <tr>\n",
       "      <th>3</th>\n",
       "      <td>2023</td>\n",
       "      <td>work</td>\n",
       "      <td>8.715921e+03</td>\n",
       "      <td>7.943673e+05</td>\n",
       "      <td>0.010972</td>\n",
       "    </tr>\n",
       "    <tr>\n",
       "      <th>4</th>\n",
       "      <td>2025</td>\n",
       "      <td>multi_family_home</td>\n",
       "      <td>6.167131e+04</td>\n",
       "      <td>1.772348e+06</td>\n",
       "      <td>0.034796</td>\n",
       "    </tr>\n",
       "    <tr>\n",
       "      <th>5</th>\n",
       "      <td>2025</td>\n",
       "      <td>public</td>\n",
       "      <td>4.708865e+05</td>\n",
       "      <td>1.772348e+06</td>\n",
       "      <td>0.265685</td>\n",
       "    </tr>\n",
       "    <tr>\n",
       "      <th>6</th>\n",
       "      <td>2025</td>\n",
       "      <td>single_family_home</td>\n",
       "      <td>1.212835e+06</td>\n",
       "      <td>1.772348e+06</td>\n",
       "      <td>0.684310</td>\n",
       "    </tr>\n",
       "    <tr>\n",
       "      <th>7</th>\n",
       "      <td>2025</td>\n",
       "      <td>work</td>\n",
       "      <td>2.695521e+04</td>\n",
       "      <td>1.772348e+06</td>\n",
       "      <td>0.015209</td>\n",
       "    </tr>\n",
       "    <tr>\n",
       "      <th>8</th>\n",
       "      <td>2030</td>\n",
       "      <td>multi_family_home</td>\n",
       "      <td>1.845952e+05</td>\n",
       "      <td>3.547069e+06</td>\n",
       "      <td>0.052042</td>\n",
       "    </tr>\n",
       "    <tr>\n",
       "      <th>9</th>\n",
       "      <td>2030</td>\n",
       "      <td>public</td>\n",
       "      <td>9.007578e+05</td>\n",
       "      <td>3.547069e+06</td>\n",
       "      <td>0.253944</td>\n",
       "    </tr>\n",
       "    <tr>\n",
       "      <th>10</th>\n",
       "      <td>2030</td>\n",
       "      <td>single_family_home</td>\n",
       "      <td>2.387839e+06</td>\n",
       "      <td>3.547069e+06</td>\n",
       "      <td>0.673186</td>\n",
       "    </tr>\n",
       "    <tr>\n",
       "      <th>11</th>\n",
       "      <td>2030</td>\n",
       "      <td>work</td>\n",
       "      <td>7.387736e+04</td>\n",
       "      <td>3.547069e+06</td>\n",
       "      <td>0.020828</td>\n",
       "    </tr>\n",
       "    <tr>\n",
       "      <th>12</th>\n",
       "      <td>2035</td>\n",
       "      <td>multi_family_home</td>\n",
       "      <td>3.375591e+05</td>\n",
       "      <td>4.870840e+06</td>\n",
       "      <td>0.069302</td>\n",
       "    </tr>\n",
       "    <tr>\n",
       "      <th>13</th>\n",
       "      <td>2035</td>\n",
       "      <td>public</td>\n",
       "      <td>1.192998e+06</td>\n",
       "      <td>4.870840e+06</td>\n",
       "      <td>0.244927</td>\n",
       "    </tr>\n",
       "    <tr>\n",
       "      <th>14</th>\n",
       "      <td>2035</td>\n",
       "      <td>single_family_home</td>\n",
       "      <td>3.215289e+06</td>\n",
       "      <td>4.870840e+06</td>\n",
       "      <td>0.660110</td>\n",
       "    </tr>\n",
       "    <tr>\n",
       "      <th>15</th>\n",
       "      <td>2035</td>\n",
       "      <td>work</td>\n",
       "      <td>1.249932e+05</td>\n",
       "      <td>4.870840e+06</td>\n",
       "      <td>0.025662</td>\n",
       "    </tr>\n",
       "  </tbody>\n",
       "</table>\n",
       "</div>"
      ],
      "text/plain": [
       "    year            location       load_kW   tot_load_kW  load_frac\n",
       "0   2023   multi_family_home  1.558815e+04  7.943673e+05   0.019623\n",
       "1   2023              public  2.208862e+05  7.943673e+05   0.278066\n",
       "2   2023  single_family_home  5.491770e+05  7.943673e+05   0.691339\n",
       "3   2023                work  8.715921e+03  7.943673e+05   0.010972\n",
       "4   2025   multi_family_home  6.167131e+04  1.772348e+06   0.034796\n",
       "5   2025              public  4.708865e+05  1.772348e+06   0.265685\n",
       "6   2025  single_family_home  1.212835e+06  1.772348e+06   0.684310\n",
       "7   2025                work  2.695521e+04  1.772348e+06   0.015209\n",
       "8   2030   multi_family_home  1.845952e+05  3.547069e+06   0.052042\n",
       "9   2030              public  9.007578e+05  3.547069e+06   0.253944\n",
       "10  2030  single_family_home  2.387839e+06  3.547069e+06   0.673186\n",
       "11  2030                work  7.387736e+04  3.547069e+06   0.020828\n",
       "12  2035   multi_family_home  3.375591e+05  4.870840e+06   0.069302\n",
       "13  2035              public  1.192998e+06  4.870840e+06   0.244927\n",
       "14  2035  single_family_home  3.215289e+06  4.870840e+06   0.660110\n",
       "15  2035                work  1.249932e+05  4.870840e+06   0.025662"
      ]
     },
     "execution_count": 78,
     "metadata": {},
     "output_type": "execute_result"
    }
   ],
   "source": [
    "def calc_load_frac_by_location(df):\n",
    "    load_by_loc = df.groupby(['year','location', 'hour', ])['load_kW'].sum()\n",
    "    load_by_loc = load_by_loc.groupby(['year', 'location']).max().reset_index()\n",
    "\n",
    "    totload = load_by_loc.groupby('year')['load_kW'].sum().reset_index()\n",
    "    totload['tot_load_kW'] = totload['load_kW']\n",
    "    totload.drop(columns=['load_kW'], inplace=True)\n",
    "\n",
    "    # merge the total load back into the load_by_loc dataframe\n",
    "    merged = pd.merge(load_by_loc, totload, on='year', how='left')\n",
    "    merged['load_frac'] = merged['load_kW'] / merged['tot_load_kW']\n",
    "    merged.to_csv(datadir + 'loads_charges/frac_load_by_loc.csv', index=False)\n",
    "    return merged\n",
    "\n",
    "merged = calc_load_frac_by_location(df)\n",
    "merged"
   ]
  },
  {
   "attachments": {},
   "cell_type": "markdown",
   "metadata": {},
   "source": [
    "# Summary statistics for use of charging"
   ]
  },
  {
   "attachments": {},
   "cell_type": "markdown",
   "metadata": {},
   "source": []
  }
 ],
 "metadata": {
  "kernelspec": {
   "display_name": "Python 3",
   "language": "python",
   "name": "python3"
  },
  "language_info": {
   "codemirror_mode": {
    "name": "ipython",
    "version": 3
   },
   "file_extension": ".py",
   "mimetype": "text/x-python",
   "name": "python",
   "nbconvert_exporter": "python",
   "pygments_lexer": "ipython3",
   "version": "3.11.3"
  },
  "orig_nbformat": 4
 },
 "nbformat": 4,
 "nbformat_minor": 2
}
