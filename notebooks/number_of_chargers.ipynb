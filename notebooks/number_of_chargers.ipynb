{
 "cells": [
  {
   "cell_type": "code",
   "execution_count": 1,
   "metadata": {},
   "outputs": [],
   "source": [
    "import pandas as pd\n",
    "import numpy as np\n",
    "import replicaEVSE.load_curve as sim\n",
    "import replicaEVSE.datautils as simdu\n",
    "import matplotlib.pyplot as plt\n",
    "import os\n",
    "import joblib\n",
    "from tqdm import tqdm\n",
    "from glob import glob\n",
    "# import dask.dataframe as dd\n",
    "import pandas as dd\n",
    "import datetime as dt\n",
    "\n",
    "%matplotlib inline\n",
    "%config InlineBackend.figure_format = 'retina'\n",
    "%reload_ext autoreload\n",
    "%autoreload 2\n",
    "\n",
    "datadir = '../../data/'"
   ]
  },
  {
   "attachments": {},
   "cell_type": "markdown",
   "metadata": {},
   "source": [
    " 1) read in the loads and charges\n",
    " 2) compute the peak load\n",
    " 3) compute the fraction of charging events as a function of charger type"
   ]
  },
  {
   "cell_type": "code",
   "execution_count": 9,
   "metadata": {},
   "outputs": [
    {
     "name": "stderr",
     "output_type": "stream",
     "text": [
      "/home/matthew.wilde@RMI.local/mambaforge/envs/py311/lib/python3.11/site-packages/distributed/node.py:182: UserWarning: Port 8787 is already in use.\n",
      "Perhaps you already have a cluster running?\n",
      "Hosting the HTTP server on port 42387 instead\n",
      "  warnings.warn(\n"
     ]
    }
   ],
   "source": [
    "from dask.distributed import Client, LocalCluster\n",
    "cluster = LocalCluster(n_workers=-1)  # Launches a scheduler and workers locally\n",
    "client = Client(cluster)  # Connect to distributed cluster and override default"
   ]
  },
  {
   "cell_type": "code",
   "execution_count": 2,
   "metadata": {},
   "outputs": [],
   "source": [
    "seg_list = ['Personal Sedan',\n",
    " 'Personal Crossover',\n",
    " 'Personal Truck/SUV',\n",
    " 'Commercial Sedan',\n",
    " 'Commercial Crossover',\n",
    " 'Commercial Truck/SUV']"
   ]
  },
  {
   "attachments": {},
   "cell_type": "markdown",
   "metadata": {},
   "source": [
    "# read in the loads and charges"
   ]
  },
  {
   "cell_type": "code",
   "execution_count": 3,
   "metadata": {},
   "outputs": [],
   "source": [
    "charge_files = glob(datadir + 'loads_charges/charges_2*_2023-06-06.parquet')\n",
    "charges_list = []\n",
    "for cfile in charge_files:\n",
    "    charges = dd.read_parquet(cfile)\n",
    "    charges_list.append(charges)\n",
    "charges = dd.concat(charges_list)\n",
    "\n",
    "loads_files = glob(datadir + 'loads_charges/loads_2*_2023-06-06.parquet')\n",
    "loads_list = []\n",
    "for lfile in loads_files:\n",
    "    loads = dd.read_parquet(lfile)\n",
    "    loads_list.append(loads)\n",
    "loads = dd.concat(loads_list)\n"
   ]
  },
  {
   "cell_type": "code",
   "execution_count": 4,
   "metadata": {},
   "outputs": [
    {
     "data": {
      "text/plain": [
       "(Index(['person_id', 'charge_id', 'charge_type', 'activity_id', 'simulation_id',\n",
       "        'charger_power_kW', 'charge_energy_used_kWh',\n",
       "        'charge_opportunity_remaining_kWh', 'weekday', 'year', 'segment',\n",
       "        'work_frac', 'multiunit_frac'],\n",
       "       dtype='object'),\n",
       " Index(['person_id', 'load_segment_id', 'charge_id', 'charge_type',\n",
       "        'window_start_time', 'window_end_time', 'load_kW', 'weekday', 'year',\n",
       "        'segment', 'work_frac', 'multiunit_frac'],\n",
       "       dtype='object'))"
      ]
     },
     "execution_count": 4,
     "metadata": {},
     "output_type": "execute_result"
    }
   ],
   "source": [
    "charges.columns, loads.columns"
   ]
  },
  {
   "cell_type": "code",
   "execution_count": 5,
   "metadata": {},
   "outputs": [],
   "source": [
    "reftime = ref_time=dt.datetime(2023, 1, 1, 0, 0)\n",
    "loads[\"hour\"] = (loads[\"window_end_time\"]+ref_time).dt.hour"
   ]
  },
  {
   "cell_type": "code",
   "execution_count": 6,
   "metadata": {},
   "outputs": [],
   "source": [
    "charges = charges[charges['charger_power_kW'] > 0]"
   ]
  },
  {
   "cell_type": "code",
   "execution_count": 8,
   "metadata": {},
   "outputs": [],
   "source": [
    "max_load = loads.groupby(['year','hour',])['load_kW'].sum()"
   ]
  },
  {
   "cell_type": "code",
   "execution_count": 9,
   "metadata": {},
   "outputs": [],
   "source": [
    "loadsmall = loads[['charge_id', 'hour', 'load_kW']]\n",
    "loadsmall = loadsmall[loadsmall['load_kW'] > 0] # remove 0 loads\n",
    "all = loadsmall.merge(charges, on='charge_id', how='left')"
   ]
  },
  {
   "cell_type": "code",
   "execution_count": 10,
   "metadata": {},
   "outputs": [
    {
     "data": {
      "text/plain": [
       "Index(['charge_id', 'hour', 'load_kW', 'person_id', 'charge_type',\n",
       "       'activity_id', 'simulation_id', 'charger_power_kW',\n",
       "       'charge_energy_used_kWh', 'charge_opportunity_remaining_kWh', 'weekday',\n",
       "       'year', 'segment', 'work_frac', 'multiunit_frac'],\n",
       "      dtype='object')"
      ]
     },
     "execution_count": 10,
     "metadata": {},
     "output_type": "execute_result"
    }
   ],
   "source": [
    "all.columns"
   ]
  },
  {
   "attachments": {},
   "cell_type": "markdown",
   "metadata": {},
   "source": [
    "### Find the max load per year"
   ]
  },
  {
   "cell_type": "code",
   "execution_count": 11,
   "metadata": {},
   "outputs": [],
   "source": [
    "max_load = all.groupby(['year','hour',])['load_kW'].sum()"
   ]
  },
  {
   "cell_type": "code",
   "execution_count": 13,
   "metadata": {},
   "outputs": [],
   "source": [
    "df = all.copy()\n",
    "df['location'] = df.charge_type.copy()\n",
    "keep_values = ['single_family_home', 'multi_family_home', 'public']\n",
    "home_values = ['public', 'work']\n",
    "\n",
    "# Set values not in the keep list to 'work'\n",
    "df['location'] = df['location'].where(df['location'].isin(keep_values), 'work')"
   ]
  },
  {
   "cell_type": "code",
   "execution_count": 14,
   "metadata": {},
   "outputs": [
    {
     "data": {
      "text/plain": [
       "year  location          \n",
       "2023  multi_family_home     0.022060\n",
       "      public                0.336536\n",
       "      single_family_home    0.757803\n",
       "      work                  0.020253\n",
       "2025  multi_family_home     0.028784\n",
       "      public                0.327923\n",
       "      single_family_home    0.754423\n",
       "      work                  0.025634\n",
       "Name: load_kW, dtype: float64"
      ]
     },
     "execution_count": 14,
     "metadata": {},
     "output_type": "execute_result"
    }
   ],
   "source": [
    "load_by_loc = df.groupby(['year','location', 'hour', ])['load_kW'].sum()\n",
    "load_by_loc.groupby(['year', 'location']).max()/ max_load.groupby('year').max()"
   ]
  },
  {
   "cell_type": "code",
   "execution_count": 17,
   "metadata": {},
   "outputs": [
    {
     "data": {
      "text/plain": [
       "year  location           hour\n",
       "2023  multi_family_home  0       5258.637228\n",
       "                         1       3299.762551\n",
       "                         2       1895.919228\n",
       "                         3       1305.077669\n",
       "                         4        979.952819\n",
       "                                    ...     \n",
       "2025  work               19      3242.448025\n",
       "                         20      2612.420696\n",
       "                         21      1830.308641\n",
       "                         22      1239.343013\n",
       "                         23       895.451558\n",
       "Name: load_kW, Length: 192, dtype: float64"
      ]
     },
     "execution_count": 17,
     "metadata": {},
     "output_type": "execute_result"
    }
   ],
   "source": [
    "workfrac = np.linspace(0.2, 0.5, 4)\n",
    "multiunitfrac = np.linspace(0.2, 6.0, 4)"
   ]
  },
  {
   "cell_type": "code",
   "execution_count": 15,
   "metadata": {},
   "outputs": [],
   "source": [
    "max_load = all.groupby(['year','hour',])['load_kW'].sum()"
   ]
  },
  {
   "cell_type": "code",
   "execution_count": 16,
   "metadata": {},
   "outputs": [
    {
     "data": {
      "text/plain": [
       "year\n",
       "2023    361003.917919\n",
       "2025    655162.344965\n",
       "Name: load_kW, dtype: float64"
      ]
     },
     "execution_count": 16,
     "metadata": {},
     "output_type": "execute_result"
    }
   ],
   "source": [
    "max_load.groupby('year').max()"
   ]
  },
  {
   "cell_type": "code",
   "execution_count": 50,
   "metadata": {},
   "outputs": [
    {
     "name": "stdout",
     "output_type": "stream",
     "text": [
      "year  location          \n",
      "2023  public                0.614619\n",
      "      single_family_home    0.340299\n",
      "      work                  0.026459\n",
      "      multi_family_home     0.018623\n",
      "2025  public                0.614632\n",
      "      single_family_home    0.340308\n",
      "      work                  0.026474\n",
      "      multi_family_home     0.018586\n",
      "2030  public                0.614739\n",
      "      single_family_home    0.340365\n",
      "      work                  0.026352\n",
      "      multi_family_home     0.018543\n",
      "2035  public                0.614698\n",
      "      single_family_home    0.340328\n",
      "      work                  0.026403\n",
      "      multi_family_home     0.018572\n",
      "dtype: float64\n"
     ]
    },
    {
     "data": {
      "text/plain": [
       "location\n",
       "public                0.614672\n",
       "single_family_home    0.340325\n",
       "work                  0.026422\n",
       "multi_family_home     0.018581\n",
       "Name: count, dtype: float64"
      ]
     },
     "execution_count": 50,
     "metadata": {},
     "output_type": "execute_result"
    },
    {
     "data": {
      "image/png": "[encoded data removed]",
      "text/plain": [
       "<Figure size 640x480 with 1 Axes>"
      ]
     },
     "metadata": {
      "image/png": {
       "height": 428,
       "width": 591
      }
     },
     "output_type": "display_data"
    }
   ],
   "source": [
    "charges['location'] = charges.charge_type.copy()\n",
    "keep_values = ['single_family_home', 'multi_family_home', 'public']\n",
    "home_values = ['public', 'work']\n",
    "\n",
    "# Set values not in the keep list to 'work'\n",
    "charges['location'] = charges['location'].where(charges['location'].isin(keep_values), 'work')\n",
    "\n",
    "charges_year = charges.groupby(['year'])['location'].value_counts()\n",
    "charges_year_tot = charges.groupby(['year'])['location'].count()\n",
    "\n",
    "print(charges_year/charges_year_tot)\n",
    "\n",
    "charges[charges['charger_power_kW'] > 0]['location'].hist(bins=50)\n",
    "charges[charges['charger_power_kW'] > 0]['location'].value_counts()/len(charges[charges['charger_power_kW'] > 0])"
   ]
  },
  {
   "cell_type": "code",
   "execution_count": 67,
   "metadata": {},
   "outputs": [],
   "source": [
    "all['location'] = all.charge_type.copy()\n",
    "keep_values = ['single_family_home', 'multi_family_home', 'public']\n",
    "home_values = ['public', 'work']\n",
    "\n",
    "# Set values not in the keep list to 'work'\n",
    "all['location'] = all['location'].where(all['location'].isin(keep_values), 'work')\n"
   ]
  },
  {
   "cell_type": "code",
   "execution_count": 64,
   "metadata": {},
   "outputs": [
    {
     "ename": "KeyError",
     "evalue": "'location'",
     "output_type": "error",
     "traceback": [
      "\u001b[0;31m---------------------------------------------------------------------------\u001b[0m",
      "\u001b[0;31mKeyError\u001b[0m                                  Traceback (most recent call last)",
      "Cell \u001b[0;32mIn[64], line 11\u001b[0m\n\u001b[1;32m      7\u001b[0m     \u001b[39mprint\u001b[39m(\u001b[39m\"\u001b[39m\u001b[39mpeak load: \u001b[39m\u001b[39m\"\u001b[39m, total_load)\n\u001b[1;32m      8\u001b[0m     \u001b[39mreturn\u001b[39;00m df_peak_load[[\u001b[39m'\u001b[39m\u001b[39mlocation\u001b[39m\u001b[39m'\u001b[39m, \u001b[39m'\u001b[39m\u001b[39mload_frac_by_loc\u001b[39m\u001b[39m'\u001b[39m]]\n\u001b[0;32m---> 11\u001b[0m load_frac_by_loc(\u001b[39mall\u001b[39;49m, day\u001b[39m=\u001b[39;49m\u001b[39m'\u001b[39;49m\u001b[39mthursday\u001b[39;49m\u001b[39m'\u001b[39;49m, hour\u001b[39m=\u001b[39;49m\u001b[39m19\u001b[39;49m)\n",
      "Cell \u001b[0;32mIn[64], line 3\u001b[0m, in \u001b[0;36mload_frac_by_loc\u001b[0;34m(df, day, hour)\u001b[0m\n\u001b[1;32m      1\u001b[0m \u001b[39mdef\u001b[39;00m \u001b[39mload_frac_by_loc\u001b[39m(df, day\u001b[39m=\u001b[39m\u001b[39m'\u001b[39m\u001b[39mthursday\u001b[39m\u001b[39m'\u001b[39m, hour\u001b[39m=\u001b[39m\u001b[39m19\u001b[39m):\n\u001b[1;32m      2\u001b[0m     df_thu \u001b[39m=\u001b[39m df\u001b[39m.\u001b[39mloc[(df\u001b[39m.\u001b[39mweekday \u001b[39m==\u001b[39m day)\u001b[39m&\u001b[39m (df[\u001b[39m'\u001b[39m\u001b[39mhour\u001b[39m\u001b[39m'\u001b[39m] \u001b[39m==\u001b[39m hour)]\u001b[39m.\u001b[39mcopy()\n\u001b[0;32m----> 3\u001b[0m     df_peak_load \u001b[39m=\u001b[39m df_thu\u001b[39m.\u001b[39;49mgroupby(by\u001b[39m=\u001b[39;49m[\u001b[39m'\u001b[39;49m\u001b[39mlocation\u001b[39;49m\u001b[39m'\u001b[39;49m])\u001b[39m.\u001b[39msum()\n\u001b[1;32m      4\u001b[0m     total_load \u001b[39m=\u001b[39m df_peak_load\u001b[39m.\u001b[39mload_kW\u001b[39m.\u001b[39msum()\n\u001b[1;32m      5\u001b[0m     df_peak_load[\u001b[39m'\u001b[39m\u001b[39mload_frac_by_loc\u001b[39m\u001b[39m'\u001b[39m] \u001b[39m=\u001b[39m df_peak_load\u001b[39m.\u001b[39mload_kW\u001b[39m/\u001b[39mtotal_load\n",
      "File \u001b[0;32m~/mambaforge/envs/py311/lib/python3.11/site-packages/pandas/core/frame.py:8262\u001b[0m, in \u001b[0;36mDataFrame.groupby\u001b[0;34m(self, by, axis, level, as_index, sort, group_keys, observed, dropna)\u001b[0m\n\u001b[1;32m   8259\u001b[0m     \u001b[39mraise\u001b[39;00m \u001b[39mTypeError\u001b[39;00m(\u001b[39m\"\u001b[39m\u001b[39mYou have to supply one of \u001b[39m\u001b[39m'\u001b[39m\u001b[39mby\u001b[39m\u001b[39m'\u001b[39m\u001b[39m and \u001b[39m\u001b[39m'\u001b[39m\u001b[39mlevel\u001b[39m\u001b[39m'\u001b[39m\u001b[39m\"\u001b[39m)\n\u001b[1;32m   8260\u001b[0m axis \u001b[39m=\u001b[39m \u001b[39mself\u001b[39m\u001b[39m.\u001b[39m_get_axis_number(axis)\n\u001b[0;32m-> 8262\u001b[0m \u001b[39mreturn\u001b[39;00m DataFrameGroupBy(\n\u001b[1;32m   8263\u001b[0m     obj\u001b[39m=\u001b[39;49m\u001b[39mself\u001b[39;49m,\n\u001b[1;32m   8264\u001b[0m     keys\u001b[39m=\u001b[39;49mby,\n\u001b[1;32m   8265\u001b[0m     axis\u001b[39m=\u001b[39;49maxis,\n\u001b[1;32m   8266\u001b[0m     level\u001b[39m=\u001b[39;49mlevel,\n\u001b[1;32m   8267\u001b[0m     as_index\u001b[39m=\u001b[39;49mas_index,\n\u001b[1;32m   8268\u001b[0m     sort\u001b[39m=\u001b[39;49msort,\n\u001b[1;32m   8269\u001b[0m     group_keys\u001b[39m=\u001b[39;49mgroup_keys,\n\u001b[1;32m   8270\u001b[0m     observed\u001b[39m=\u001b[39;49mobserved,\n\u001b[1;32m   8271\u001b[0m     dropna\u001b[39m=\u001b[39;49mdropna,\n\u001b[1;32m   8272\u001b[0m )\n",
      "File \u001b[0;32m~/mambaforge/envs/py311/lib/python3.11/site-packages/pandas/core/groupby/groupby.py:931\u001b[0m, in \u001b[0;36mGroupBy.__init__\u001b[0;34m(self, obj, keys, axis, level, grouper, exclusions, selection, as_index, sort, group_keys, observed, dropna)\u001b[0m\n\u001b[1;32m    928\u001b[0m \u001b[39mself\u001b[39m\u001b[39m.\u001b[39mdropna \u001b[39m=\u001b[39m dropna\n\u001b[1;32m    930\u001b[0m \u001b[39mif\u001b[39;00m grouper \u001b[39mis\u001b[39;00m \u001b[39mNone\u001b[39;00m:\n\u001b[0;32m--> 931\u001b[0m     grouper, exclusions, obj \u001b[39m=\u001b[39m get_grouper(\n\u001b[1;32m    932\u001b[0m         obj,\n\u001b[1;32m    933\u001b[0m         keys,\n\u001b[1;32m    934\u001b[0m         axis\u001b[39m=\u001b[39;49maxis,\n\u001b[1;32m    935\u001b[0m         level\u001b[39m=\u001b[39;49mlevel,\n\u001b[1;32m    936\u001b[0m         sort\u001b[39m=\u001b[39;49msort,\n\u001b[1;32m    937\u001b[0m         observed\u001b[39m=\u001b[39;49mobserved,\n\u001b[1;32m    938\u001b[0m         dropna\u001b[39m=\u001b[39;49m\u001b[39mself\u001b[39;49m\u001b[39m.\u001b[39;49mdropna,\n\u001b[1;32m    939\u001b[0m     )\n\u001b[1;32m    941\u001b[0m \u001b[39mself\u001b[39m\u001b[39m.\u001b[39mobj \u001b[39m=\u001b[39m obj\n\u001b[1;32m    942\u001b[0m \u001b[39mself\u001b[39m\u001b[39m.\u001b[39maxis \u001b[39m=\u001b[39m obj\u001b[39m.\u001b[39m_get_axis_number(axis)\n",
      "File \u001b[0;32m~/mambaforge/envs/py311/lib/python3.11/site-packages/pandas/core/groupby/grouper.py:985\u001b[0m, in \u001b[0;36mget_grouper\u001b[0;34m(obj, key, axis, level, sort, observed, validate, dropna)\u001b[0m\n\u001b[1;32m    983\u001b[0m         in_axis, level, gpr \u001b[39m=\u001b[39m \u001b[39mFalse\u001b[39;00m, gpr, \u001b[39mNone\u001b[39;00m\n\u001b[1;32m    984\u001b[0m     \u001b[39melse\u001b[39;00m:\n\u001b[0;32m--> 985\u001b[0m         \u001b[39mraise\u001b[39;00m \u001b[39mKeyError\u001b[39;00m(gpr)\n\u001b[1;32m    986\u001b[0m \u001b[39melif\u001b[39;00m \u001b[39misinstance\u001b[39m(gpr, Grouper) \u001b[39mand\u001b[39;00m gpr\u001b[39m.\u001b[39mkey \u001b[39mis\u001b[39;00m \u001b[39mnot\u001b[39;00m \u001b[39mNone\u001b[39;00m:\n\u001b[1;32m    987\u001b[0m     \u001b[39m# Add key to exclusions\u001b[39;00m\n\u001b[1;32m    988\u001b[0m     exclusions\u001b[39m.\u001b[39madd(gpr\u001b[39m.\u001b[39mkey)\n",
      "\u001b[0;31mKeyError\u001b[0m: 'location'"
     ]
    }
   ],
   "source": [
    "def load_frac_by_loc(df, day='thursday', hour=19):\n",
    "    df_thu = df.loc[(df.weekday == day)& (df['hour'] == hour)].copy()\n",
    "    df_peak_load = df_thu.groupby(['year',])['load_kW'].sum()\n",
    "    total_load = df_peak_load.load_kW.sum()\n",
    "    df_peak_load['load_frac_by_loc'] = df_peak_load.load_kW/total_load\n",
    "    df_peak_load[['location', 'load_frac_by_loc']]\n",
    "    print(\"peak load: \", total_load)\n",
    "    return df_peak_load[['location', 'load_frac_by_loc']]\n",
    "\n",
    "\n",
    "load_frac_by_loc(all, day='thursday', hour=19)"
   ]
  },
  {
   "cell_type": "code",
   "execution_count": null,
   "metadata": {},
   "outputs": [],
   "source": [
    "all['location'] = all.charge_type.copy()\n",
    "keep_values = ['single_family_home', 'multi_family_home', 'public']\n",
    "home_values = ['public', 'work']\n",
    "\n",
    "# Set values not in the keep list to 'work'\n",
    "all['location'] = all['location'].where(all['location'].isin(keep_values), 'work')\n",
    "\n",
    "charges_year = charges.groupby(['year'])['location']['load_kW'].sum()\n",
    "charges_year_tot = charges.groupby(['year'])['location'].count()\n",
    "\n",
    "print(charges_year/charges_year_tot)\n",
    "\n",
    "charges[charges['charger_power_kW'] > 0]['location'].hist(bins=50)\n",
    "charges[charges['charger_power_kW'] > 0]['location'].value_counts()/len(charges[charges['charger_power_kW'] > 0])"
   ]
  }
 ],
 "metadata": {
  "kernelspec": {
   "display_name": "Python 3",
   "language": "python",
   "name": "python3"
  },
  "language_info": {
   "codemirror_mode": {
    "name": "ipython",
    "version": 3
   },
   "file_extension": ".py",
   "mimetype": "text/x-python",
   "name": "python",
   "nbconvert_exporter": "python",
   "pygments_lexer": "ipython3",
   "version": "3.11.3"
  },
  "orig_nbformat": 4
 },
 "nbformat": 4,
 "nbformat_minor": 2
}
