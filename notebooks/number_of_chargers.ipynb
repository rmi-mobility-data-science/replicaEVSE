{
 "cells": [
  {
   "cell_type": "code",
   "execution_count": 1,
   "metadata": {},
   "outputs": [],
   "source": [
    "import pandas as pd\n",
    "import numpy as np\n",
    "import replicaEVSE.load_curve as sim\n",
    "import replicaEVSE.datautils as simdu\n",
    "import matplotlib.pyplot as plt\n",
    "import os\n",
    "import joblib\n",
    "from tqdm import tqdm\n",
    "from glob import glob\n",
    "import dask.dataframe as dd\n",
    "import datetime as dt\n",
    "\n",
    "%matplotlib inline\n",
    "%config InlineBackend.figure_format = 'retina'\n",
    "%reload_ext autoreload\n",
    "%autoreload 2\n",
    "\n",
    "datadir = '../../data/'"
   ]
  },
  {
   "attachments": {},
   "cell_type": "markdown",
   "metadata": {},
   "source": [
    " 1) read in the loads and charges\n",
    " 2) compute the peak load\n",
    " 3) compute the fraction of charging events as a function of charger type"
   ]
  },
  {
   "cell_type": "code",
   "execution_count": 2,
   "metadata": {},
   "outputs": [],
   "source": [
    "from dask.distributed import Client, LocalCluster\n",
    "cluster = LocalCluster(n_workers=-1)  # Launches a scheduler and workers locally\n",
    "client = Client(cluster)  # Connect to distributed cluster and override default"
   ]
  },
  {
   "cell_type": "code",
   "execution_count": 3,
   "metadata": {},
   "outputs": [],
   "source": [
    "seg_list = ['Personal Sedan',\n",
    " 'Personal Crossover',\n",
    " 'Personal Truck/SUV',\n",
    " 'Commercial Sedan',\n",
    " 'Commercial Crossover',\n",
    " 'Commercial Truck/SUV']"
   ]
  },
  {
   "attachments": {},
   "cell_type": "markdown",
   "metadata": {},
   "source": [
    "# read in the loads and charges"
   ]
  },
  {
   "cell_type": "code",
   "execution_count": 4,
   "metadata": {},
   "outputs": [],
   "source": [
    "charge_files = glob(datadir + 'loads_charges/charges_2*_2023-06-05.parquet')\n",
    "charges_list = []\n",
    "for cfile in charge_files:\n",
    "    charges = dd.read_parquet(cfile)\n",
    "    charges_list.append(charges)\n",
    "charges = dd.concat(charges_list)\n",
    "\n",
    "loads_files = glob(datadir + 'loads_charges/loads_2*_2023-06-05.parquet')\n",
    "loads_list = []\n",
    "for lfile in loads_files:\n",
    "    loads = dd.read_parquet(lfile)\n",
    "    loads_list.append(loads)\n",
    "loads = dd.concat(loads_list)\n"
   ]
  },
  {
   "cell_type": "code",
   "execution_count": 6,
   "metadata": {},
   "outputs": [],
   "source": [
    "reftime = ref_time=dt.datetime(2023, 1, 1, 0, 0)\n",
    "loads[\"hour\"] = (loads[\"window_end_time\"]+ref_time).dt.hour"
   ]
  },
  {
   "attachments": {},
   "cell_type": "markdown",
   "metadata": {},
   "source": [
    "### Note: next time this these will output the weekday but for now we have to \n",
    "get the weekday by matching to the trips table via activity_id"
   ]
  },
  {
   "cell_type": "code",
   "execution_count": 7,
   "metadata": {},
   "outputs": [],
   "source": [
    "trips = dd.read_parquet(datadir + 'wa_pop_and_trips_sorted.parquet')\n",
    "trips = trips[trips['weekday'] == 'thursday']"
   ]
  },
  {
   "cell_type": "code",
   "execution_count": 8,
   "metadata": {},
   "outputs": [],
   "source": [
    "charges = charges[charges['charger_power_kW'] > 0]"
   ]
  },
  {
   "cell_type": "code",
   "execution_count": 10,
   "metadata": {},
   "outputs": [],
   "source": [
    "loadsmall = loads[['charge_id', 'hour', 'load_kW']]\n",
    "loadscharges = loadsmall.merge(charges, on='charge_id', how='left')"
   ]
  },
  {
   "cell_type": "code",
   "execution_count": 11,
   "metadata": {},
   "outputs": [
    {
     "data": {
      "text/plain": [
       "Index(['charge_id', 'hour', 'load_kW', 'person_id', 'charge_type',\n",
       "       'activity_id', 'simulation_id', 'charger_power_kW',\n",
       "       'charge_energy_used_kWh', 'charge_opportunity_remaining_kWh', 'year',\n",
       "       'segment'],\n",
       "      dtype='object')"
      ]
     },
     "execution_count": 11,
     "metadata": {},
     "output_type": "execute_result"
    }
   ],
   "source": [
    "loadscharges = loadscharges.drop(columns=['work_frac', 'multiunit_frac'])\n",
    "loadscharges.columns"
   ]
  },
  {
   "cell_type": "code",
   "execution_count": 12,
   "metadata": {},
   "outputs": [
    {
     "data": {
      "text/plain": [
       "dask.dataframe.core.DataFrame"
      ]
     },
     "execution_count": 12,
     "metadata": {},
     "output_type": "execute_result"
    }
   ],
   "source": [
    "tripsmall = trips[['activity_id', 'weekday']]"
   ]
  },
  {
   "cell_type": "code",
   "execution_count": 13,
   "metadata": {},
   "outputs": [],
   "source": [
    "all = dd.merge(tripsmall, loadscharges, how='right')"
   ]
  },
  {
   "cell_type": "code",
   "execution_count": 14,
   "metadata": {},
   "outputs": [
    {
     "data": {
      "text/plain": [
       "Index(['activity_id', 'weekday', 'charge_id', 'hour', 'load_kW', 'person_id',\n",
       "       'charge_type', 'simulation_id', 'charger_power_kW',\n",
       "       'charge_energy_used_kWh', 'charge_opportunity_remaining_kWh', 'year',\n",
       "       'segment'],\n",
       "      dtype='object')"
      ]
     },
     "execution_count": 14,
     "metadata": {},
     "output_type": "execute_result"
    }
   ],
   "source": [
    "all.columns"
   ]
  },
  {
   "cell_type": "code",
   "execution_count": 15,
   "metadata": {},
   "outputs": [],
   "source": []
  },
  {
   "attachments": {},
   "cell_type": "markdown",
   "metadata": {},
   "source": [
    "### Find the max load per year"
   ]
  },
  {
   "cell_type": "code",
   "execution_count": 15,
   "metadata": {},
   "outputs": [],
   "source": [
    "max_load = all.groupby(['year'])['load_kW'].max().compute()"
   ]
  },
  {
   "cell_type": "code",
   "execution_count": 13,
   "metadata": {},
   "outputs": [
    {
     "data": {
      "text/plain": [
       "array(['public', 'home', 'work'], dtype=object)"
      ]
     },
     "execution_count": 13,
     "metadata": {},
     "output_type": "execute_result"
    }
   ],
   "source": [
    "# charges[charges['charger_power_kW']> 0]\n",
    "\n",
    "charges['location'] = charges.charge_type.copy()\n",
    "keep_values = ['single_family_home', 'multi_family_home', 'public']\n",
    "home_values = ['public', 'work']\n",
    "\n",
    "# Set values not in the keep list to 'work'\n",
    "charges['location'] = charges['location'].where(charges['location'].isin(keep_values), 'work')\n",
    "charges['location'] = charges['location'].where(charges['location'].isin(home_values), 'home')\n",
    "charges['location'].unique()\n"
   ]
  },
  {
   "cell_type": "code",
   "execution_count": 16,
   "metadata": {},
   "outputs": [
    {
     "data": {
      "text/plain": [
       "location\n",
       "public                0.614633\n",
       "single_family_home    0.340313\n",
       "work                  0.026444\n",
       "multi_family_home     0.018611\n",
       "Name: count, dtype: float64"
      ]
     },
     "execution_count": 16,
     "metadata": {},
     "output_type": "execute_result"
    },
    {
     "data": {
      "image/png": "[encoded data removed]",
      "text/plain": [
       "<Figure size 640x480 with 1 Axes>"
      ]
     },
     "metadata": {
      "image/png": {
       "height": 428,
       "width": 591
      }
     },
     "output_type": "display_data"
    }
   ],
   "source": [
    "charges['location'] = charges.charge_type.copy()\n",
    "keep_values = ['single_family_home', 'multi_family_home', 'public']\n",
    "home_values = ['public', 'work']\n",
    "\n",
    "# Set values not in the keep list to 'work'\n",
    "charges['location'] = charges['location'].where(charges['location'].isin(keep_values), 'work')\n",
    "\n",
    "charges[charges['charger_power_kW'] > 0]['location'].hist(bins=50)\n",
    "charges[charges['charger_power_kW'] > 0]['location'].value_counts()/len(charges[charges['charger_power_kW'] > 0])"
   ]
  },
  {
   "cell_type": "code",
   "execution_count": null,
   "metadata": {},
   "outputs": [],
   "source": [
    "def load_frac_by_loc(df, day='thursday', hour=19):\n",
    "    df_thu = df.loc[(df.weekday == day)& (df['hour'] == hour)].copy()\n",
    "    df_peak_load = df_thu.groupby(by=['location']).sum()\n",
    "    total_load = df_peak_load.load_kW.sum()\n",
    "    df_peak_load['load_frac_by_loc'] = df_peak_load.load_kW/total_load\n",
    "    df_peak_load[['location', 'load_frac_by_loc']]\n",
    "    print(\"peak load: \", total_load)\n",
    "    return df_peak_load[['location', 'load_frac_by_loc']]\n",
    "\n",
    "load_frac_by_loc(loads, day='thursday', hour=19)"
   ]
  }
 ],
 "metadata": {
  "kernelspec": {
   "display_name": "Python 3",
   "language": "python",
   "name": "python3"
  },
  "language_info": {
   "codemirror_mode": {
    "name": "ipython",
    "version": 3
   },
   "file_extension": ".py",
   "mimetype": "text/x-python",
   "name": "python",
   "nbconvert_exporter": "python",
   "pygments_lexer": "ipython3",
   "version": "3.11.3"
  },
  "orig_nbformat": 4
 },
 "nbformat": 4,
 "nbformat_minor": 2
}
